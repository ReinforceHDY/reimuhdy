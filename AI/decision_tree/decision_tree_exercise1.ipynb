{
  "cells": [
    {
      "metadata": {
        "_uuid": "40a92ee0f81086399b299be14de466ff5ad9be6a",
        "trusted": true
      },
      "cell_type": "code",
      "source": "%matplotlib inline\nimport numpy as np\nimport matplotlib.pyplot as plt\nfrom sklearn.tree import DecisionTreeClassifier",
      "execution_count": null,
      "outputs": []
    },
    {
      "metadata": {
        "_uuid": "c8741555be3047e6ded2dc56b1891cad4b77a8b5",
        "trusted": true
      },
      "cell_type": "code",
      "source": "def plot_decision_boundary(X, model):\n    h = .02\n    \n    x_min, x_max = X[:, 0].min() -1, X[:,0].max() + 1\n    y_min, y_max = X[:, 1].min() - 1, X[:, 1].max() + 1\n    xx, yy = np.meshgrid(np.arange(x_min, x_max, h), np.arange(y_min, y_max, h))\n    \n    z = model.predict(np.c_[xx.ravel(), yy.ravel()])\n    z = z.reshape(xx.shape)\n    \n    plt.contour(xx, yy, z, cmap=plt.cm.Paired)\n    \n",
      "execution_count": null,
      "outputs": []
    },
    {
      "metadata": {
        "_uuid": "19960b5feff6df875ee101f7f5f10c4334f1d114"
      },
      "cell_type": "markdown",
      "source": "### 线性可分点集"
    },
    {
      "metadata": {
        "_uuid": "72c40f9ff494447c61778ff486d4176b98c88605",
        "trusted": true
      },
      "cell_type": "code",
      "source": "np.random.seed(10)\n\nN = 500\nD = 2\nX = np.random.randn(N, D)\n\ndelta = 1.5\nX[:N//2] += np.array([delta, delta])\nX[N//2:] += np.array([-delta, -delta])\n\nY = np.array([0] * (N//2) + [1] * (N//2))\nplt.scatter(X[:,0], X[:,1], s=100, c=Y, alpha=0.5)\nplt.show()",
      "execution_count": null,
      "outputs": []
    },
    {
      "metadata": {
        "_uuid": "627e25ca80ca794473e5ee093209bd00daf33b5a"
      },
      "cell_type": "markdown",
      "source": "### 直接调用决策树模型"
    },
    {
      "metadata": {
        "_uuid": "2d74cb97f2266b019a5a7d3408e4221149c23ed7",
        "trusted": true
      },
      "cell_type": "code",
      "source": "model = DecisionTreeClassifier()\nmodel.fit(X, Y)\nprint(\"score for basic tree:\", model.score(X, Y))",
      "execution_count": null,
      "outputs": []
    },
    {
      "metadata": {
        "_uuid": "4fbd8c290da320018e86b11187e0580a7d9f3b9a",
        "trusted": true
      },
      "cell_type": "code",
      "source": "plt.scatter(X[:,0], X[:,1], s=100, c=Y, alpha=0.5)\nplot_decision_boundary(X, model)\nplt.show()",
      "execution_count": null,
      "outputs": []
    },
    {
      "metadata": {
        "_uuid": "f4d104845608593b9789feabc853561b01757b69",
        "trusted": true
      },
      "cell_type": "code",
      "source": "model_depth_3 = DecisionTreeClassifier(criterion='entropy', max_depth = 3)\nmodel_depth_3.fit(X,Y)\nprint(\"score for basic tree:\", model_depth_3.score(X, Y))",
      "execution_count": null,
      "outputs": []
    },
    {
      "metadata": {
        "_uuid": "8511265e294faa8df49322d1eebbb584eadb0365",
        "trusted": true
      },
      "cell_type": "code",
      "source": "plt.scatter(X[:,0], X[:,1], s=100, c=Y, alpha=0.5)\nplot_decision_boundary(X, model_depth_3)\nplt.show()",
      "execution_count": null,
      "outputs": []
    },
    {
      "metadata": {
        "_uuid": "6f08288ca92598305d38cb58560f887bb46f2b7d",
        "trusted": false
      },
      "cell_type": "code",
      "source": "model_depth_5 = DecisionTreeClassifier(criterion='entropy', max_depth = 5)\nmodel_depth_5.fit(X,Y)\nprint(\"score for basic tree:\", model_depth_5.score(X, Y))",
      "execution_count": null,
      "outputs": []
    },
    {
      "metadata": {
        "_uuid": "086e151bfe4beed8f6a8e4e8f739b1a9810cc26f",
        "trusted": false
      },
      "cell_type": "code",
      "source": "plt.scatter(X[:,0], X[:,1], s=100, c=Y, alpha=0.5)\nplot_decision_boundary(X, model_depth_5)\nplt.show()",
      "execution_count": null,
      "outputs": []
    },
    {
      "metadata": {
        "_uuid": "774422e947d213a514636603afaa7922e1240a2e"
      },
      "cell_type": "markdown",
      "source": "### 线性不可分点集"
    },
    {
      "metadata": {
        "_uuid": "af514b86eb4e2970dcbc7a4cfed0a7ada6e9d84d",
        "trusted": false
      },
      "cell_type": "code",
      "source": "np.random.seed(10)\n\nN = 500\nD = 2\nX = np.random.randn(N, D)\n\ndelta = 1.75\nX[:125] += np.array([delta, delta])\nX[125:250] += np.array([delta, -delta])\nX[250:375] += np.array([-delta, delta])\nX[375:] += np.array([-delta, -delta])\nY = np.array([0] * 125 + [1]*125 + [1]*125 + [1] * 125)\n\nplt.scatter(X[:,0], X[:,1], s=100, c=Y, alpha=0.5)\nplt.show()",
      "execution_count": null,
      "outputs": []
    },
    {
      "metadata": {
        "_uuid": "608ea7134efec685e6bf8fd6964d4cc84733a941",
        "trusted": false
      },
      "cell_type": "code",
      "source": "model.fit(X, Y)\nmodel_depth_3.fit(X, Y)\nmodel_depth_5.fit(X,Y)\n\n\n\nprint(\"score for basic tree:\", model.score(X, Y))\nplt.scatter(X[:,0], X[:,1], s=100, c=Y, alpha=0.5)\nplot_decision_boundary(X, model)\nplt.show()\n\n\nprint(\"score for basic tree:\", model_depth_3.score(X, Y))\nplt.scatter(X[:,0], X[:,1], s=100, c=Y, alpha=0.5)\nplot_decision_boundary(X, model_depth_3)\nplt.show()\n\n\nprint(\"score for basic tree:\", model_depth_5.score(X, Y))\nplt.scatter(X[:,0], X[:,1], s=100, c=Y, alpha=0.5)\nplot_decision_boundary(X, model_depth_5)\nplt.show()\n\n",
      "execution_count": null,
      "outputs": []
    },
    {
      "metadata": {
        "_uuid": "c03c9ae97f0a1b5c4a9748f765d58a83d8b99c20"
      },
      "cell_type": "markdown",
      "source": "### 线性不可分的点集进阶"
    },
    {
      "metadata": {
        "_uuid": "4db464fb5214a6a8e294a9979a0aeb6e1de41b1e",
        "trusted": false
      },
      "cell_type": "code",
      "source": "np.random.seed(10)\n\nN = 500\nD = 2\nX = np.random.randn(N, D)\n\ndelta = 1.75\nX[:125] += np.array([delta, delta])\nX[125:250] += np.array([delta, -delta])\nX[250:375] += np.array([-delta, delta])\nX[375:] += np.array([-delta, -delta])\nY = np.array([0] * 125 + [1]*125 + [1]*125 + [0] * 125)\n\nplt.scatter(X[:,0], X[:,1], s=100, c=Y, alpha=0.5)\nplt.show()",
      "execution_count": null,
      "outputs": []
    },
    {
      "metadata": {
        "_uuid": "d3d1a956efb82c5f6ff608a1513344299d4bc904",
        "trusted": false
      },
      "cell_type": "code",
      "source": "model.fit(X, Y)\nmodel_depth_3.fit(X, Y)\nmodel_depth_5.fit(X,Y)\n\n\nprint(\"score for basic tree:\", model.score(X, Y))\nplt.scatter(X[:,0], X[:,1], s=100, c=Y, alpha=0.5)\nplot_decision_boundary(X, model)\nplt.show()\n\n\nprint(\"score for basic tree:\", model_depth_3.score(X, Y))\nplt.scatter(X[:,0], X[:,1], s=100, c=Y, alpha=0.5)\nplot_decision_boundary(X, model_depth_3)\nplt.show()\n\n\nprint(\"score for basic tree:\", model_depth_5.score(X, Y))\nplt.scatter(X[:,0], X[:,1], s=100, c=Y, alpha=0.5)\nplot_decision_boundary(X, model_depth_5)\nplt.show()\n",
      "execution_count": null,
      "outputs": []
    },
    {
      "metadata": {
        "_uuid": "37c43cb8c490eca4ef6d58a5929a827ec8c6205e"
      },
      "cell_type": "markdown",
      "source": "#### (Optional1) 线性不可分点集---甜甜圈数据 "
    },
    {
      "metadata": {
        "_uuid": "5ece2dc7f3806854998139077dd8b34c9b46a68e",
        "trusted": false
      },
      "cell_type": "code",
      "source": "np.random.seed(10)\n\nN = 500\nD = 2\nX = np.random.randn(N, D)\n\nR_smaller = 5\nR_larger = 10\n\nR1 = np.random.randn(N//2) + R_smaller\ntheta = 2 * np.pi * np.random.random(N//2)\nX[:250] = np.concatenate([[R1 * np.cos(theta)], [R1*np.sin(theta)]]).T\n\n\nR2 = np.random.randn(N//2) + R_larger\ntheta = 2 * np.pi * np.random.random(N//2)\nX[250:] = np.concatenate([[R2 * np.cos(theta)], [R2*np.sin(theta)]]).T\n\nY = np.array([0] * (N//2) + [1] * (N//2))\n\nplt.scatter(X[:,0], X[:,1], s=100, c=Y, alpha=0.5)\nplt.show()",
      "execution_count": null,
      "outputs": []
    },
    {
      "metadata": {
        "collapsed": true,
        "_uuid": "2e776531c2ac76689301b3732c953ea5eab284af",
        "trusted": false
      },
      "cell_type": "code",
      "source": "model.fit(X, Y)\nmodel_depth_3.fit(X, Y)\nmodel_depth_5.fit(X,Y)\n\n\nprint(\"score for basic tree:\", model.score(X, Y))\nplt.scatter(X[:,0], X[:,1], s=100, c=Y, alpha=0.5)\nplot_decision_boundary(X, model)\nplt.show()\n\n\nprint(\"score for basic tree:\", model_depth_3.score(X, Y))\nplt.scatter(X[:,0], X[:,1], s=100, c=Y, alpha=0.5)\nplot_decision_boundary(X, model_depth_3)\nplt.show()\n\n\nprint(\"score for basic tree:\", model_depth_5.score(X, Y))\nplt.scatter(X[:,0], X[:,1], s=100, c=Y, alpha=0.5)\nplot_decision_boundary(X, model_depth_5)\nplt.show()\n",
      "execution_count": null,
      "outputs": []
    },
    {
      "metadata": {
        "collapsed": true,
        "_uuid": "f8d141eb5f861f907dc9d715b16308b202b41e65"
      },
      "cell_type": "markdown",
      "source": "#### （Optional 2）对以上所有数据集直接调用logistic regression，并与决策树进行对比"
    },
    {
      "metadata": {
        "collapsed": true,
        "_uuid": "fa879f58e9cbe5d008bdbd5932a87e174a3d9b7d",
        "trusted": false
      },
      "cell_type": "code",
      "source": "",
      "execution_count": null,
      "outputs": []
    }
  ],
  "metadata": {
    "language_info": {
      "name": "python",
      "version": "3.6.6",
      "mimetype": "text/x-python",
      "codemirror_mode": {
        "name": "ipython",
        "version": 3
      },
      "pygments_lexer": "ipython3",
      "nbconvert_exporter": "python",
      "file_extension": ".py"
    },
    "kernelspec": {
      "display_name": "Python 3",
      "language": "python",
      "name": "python3"
    }
  },
  "nbformat": 4,
  "nbformat_minor": 1
}
