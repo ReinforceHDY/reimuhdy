{
  "cells": [
    {
      "metadata": {
        "_uuid": "8f2839f25d086af736a60e9eeb907d3b93b6e0e5",
        "_cell_guid": "b1076dfc-b9ad-4769-8c92-a6c4dae69d19",
        "trusted": true
      },
      "cell_type": "code",
      "source": "import matplotlib.pyplot as plt\nimport numpy as np\nfrom skimage.io import imshow\nfrom sklearn.decomposition import PCA\n",
      "execution_count": null,
      "outputs": []
    },
    {
      "metadata": {
        "_cell_guid": "79c7e3d0-c299-4dcb-8224-4455121ee9b0",
        "_uuid": "d629ff2d2480ee46fbb7e2d37f6b5fab8052498a",
        "trusted": true
      },
      "cell_type": "code",
      "source": "# load dataset.\nfaces_image = np.load('../input/olivetti_faces.npy')\n\n# show dataset.\nfig, axes = plt.subplots(3, 4, figsize=(9, 4),\n                         subplot_kw={'xticks':[], 'yticks':[]},\n                         gridspec_kw=dict(hspace=0.1, wspace=0.1))\nfor i, ax in enumerate(axes.flat):\n    ax.imshow(faces_image[i], cmap='bone')",
      "execution_count": null,
      "outputs": []
    },
    {
      "metadata": {
        "trusted": true,
        "_uuid": "056e98fc9f79ad0f20b5b65e9090232cff3909c1"
      },
      "cell_type": "code",
      "source": "# use PCA to do face dimensionality reduction.\nn_components = 150\ndef face_pca(faces, n_components):\n    '''\n    利用 sklearn 的 PCA 进行图像降维\n    faces: 人脸数据集，faces[i] 为一张 64*64 的图片\n    n_components: 选择多少个主成分\n    return: pca以后的人脸数据，特征脸\n    '''\n    h = faces.shape[1]\n    w = faces.shape[2]\n    faces_data = faces.reshape(faces.shape[0], h * w)\n    \n    pca = PCA(n_components=n_components).fit(faces_data)\n    \n    eigen_faces = pca.components_.reshape((n_components, h, w))\n    faces_pca = pca.transform(faces_data)\n    \n    return faces_pca, eigen_faces\n\nfaces_pca, eigen_faces = face_pca(faces_image, n_components)\n\n# Show eigen faces\nfig, axes = plt.subplots(3, 4, figsize=(9, 4),\n                         subplot_kw={'xticks':[], 'yticks':[]},\n                         gridspec_kw=dict(hspace=0.1, wspace=0.1))\nfor i, ax in enumerate(axes.flat):\n    ax.imshow(eigen_faces[i], cmap='bone')",
      "execution_count": null,
      "outputs": []
    },
    {
      "metadata": {
        "trusted": true,
        "_uuid": "dd05026348cb8e326d50e335e67abe94c32fbd0d"
      },
      "cell_type": "code",
      "source": "# Implement k-means.\n# Implement k-means.\nclass KMeans():\n    def __init__(self, k=40, max_iter=500):\n        self.k = k\n        self.max_iter = max_iter\n        # n * 1 的数组，保存每个样本的 final cluster id\n        self.label = None\n    \n    def _dist(self, a, b):\n        '''\n        a: 一维数组\n        b: 一维数组\n        return: 欧几里得距离\n        '''\n        return np.math.sqrt(sum(np.power(a - b, 2)))\n    \n    def _randCenter(self, data, k):\n        '''\n        data: n * m 的样本，其中 n 是样本个数，m 是特征个数\n        k: cluster 的个数\n        return: 随机选择的 k 个质心\n        '''\n        m = data.shape[1]\n        centers = np.empty((k, m))\n        for i in range(m):\n            minVal = min(data[:, i])\n            maxVal = max(data[:, i])\n            centers[:, i] = (minVal + (maxVal - minVal) * np.random.rand(k, 1)).flatten()\n        return centers\n    \n    def fit(self, data):\n        '''\n        将输入的data进行聚类，并将聚类结果保存在self.label中\n        data: n * m 的样本，其中 n 是样本个数，m 是特征个数\n        '''\n        n = data.shape[0] # 样本个数\n        cluster_assign = np.zeros(n) # 样本分配的 cluster id\n        cluster_dis = np.full(n, np.inf) # 样本到 cluster 中心的距离\n        \n        centers = self._randCenter(data, self.k)\n        \n        for _ in range(self.max_iter):\n            cluster_changed = False\n            for i in range(n):\n                min_dist = np.inf\n                min_index = -1\n                # 遍历所有的 cluster 中心，尝试为当前样本分配更近的 cluster\n                for j in range(self.k):\n                    center = centers[j, :]\n                    sample = data[i, :]\n                    dis = self._dist(center, sample)\n                    if dis < min_dist:\n                        min_dist = dis\n                        min_index = j\n                \n                if cluster_assign[i] != min_index and cluster_dis[i] > min_dist:\n                    cluster_changed = True\n                    cluster_assign[i] = min_index \n                    cluster_dis[i] = min_dist\n            # 如果所有样本都没有变化，说明收敛，则退出\n            if not cluster_changed:\n                break\n            \n            for i in range(self.k):\n                index = np.nonzero(cluster_assign==i)[0]\n                centers[i, :] = np.mean(data[index], axis=0)\n        \n        self.labels = cluster_assign\n\n# Clustering\ncluster_num = 40\ncluster = KMeans(k=cluster_num)\ncluster.fit(faces_pca)\n\n# Show the final results\nlabels = cluster.labels\n\nfor i in range(cluster_num):\n    index = np.nonzero(labels==i)[0]\n    num = len(index)\n    this_faces = faces_image[index]\n    fig, axes = plt.subplots(1, num, figsize=(4 * num, 4),\n                             subplot_kw={'xticks':[], 'yticks':[]},\n                             gridspec_kw=dict(hspace=0.1, wspace=0.1))\n    fig.suptitle(\"Cluster \" + str(i), fontsize=20)\n    for i, ax in enumerate(axes.flat):\n        ax.imshow(this_faces[i], cmap='bone')\n",
      "execution_count": null,
      "outputs": []
    }
  ],
  "metadata": {
    "kernelspec": {
      "display_name": "Python 3",
      "language": "python",
      "name": "python3"
    },
    "language_info": {
      "name": "python",
      "version": "3.6.6",
      "mimetype": "text/x-python",
      "codemirror_mode": {
        "name": "ipython",
        "version": 3
      },
      "pygments_lexer": "ipython3",
      "nbconvert_exporter": "python",
      "file_extension": ".py"
    }
  },
  "nbformat": 4,
  "nbformat_minor": 1
}