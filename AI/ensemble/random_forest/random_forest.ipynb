{
 "cells": [
  {
   "cell_type": "markdown",
   "metadata": {
    "_cell_guid": "27ae78be-d485-4a36-8e75-b9db0d6afc17",
    "_uuid": "15f37343ac03214af161577ad854297cca69e698",
    "collapsed": true
   },
   "source": [
    "## 随机森林的直接调用  \n",
    "\n",
    "#### 这一节课我们利用现成的随机森林库函数对蘑菇进行有毒和无毒的简单分类   \n",
    "\n",
    "- 数据来源： https://www.kaggle.com/uciml/mushroom-classification/data  \n",
    "- 对比模型： 随机森林，决策树，Logistic回归模型"
   ]
  },
  {
   "cell_type": "code",
   "execution_count": 1,
   "metadata": {
    "_cell_guid": "66f0d32e-7e64-4247-b30a-6f2506ab8a87",
    "_uuid": "81585957d9fb83c21a6e9fe3c2616faca64d6ae7"
   },
   "outputs": [
    {
     "name": "stderr",
     "output_type": "stream",
     "text": [
      "C:\\Users\\Reimu\\Anaconda3\\lib\\site-packages\\sklearn\\ensemble\\weight_boosting.py:29: DeprecationWarning: numpy.core.umath_tests is an internal NumPy module and should not be imported. It will be removed in a future NumPy release.\n",
      "  from numpy.core.umath_tests import inner1d\n"
     ]
    }
   ],
   "source": [
    "\n",
    "%matplotlib inline\n",
    "import os\n",
    "import numpy as np\n",
    "import pandas as pd\n",
    "import matplotlib.pyplot as plt\n",
    "\n",
    "from sklearn.preprocessing import LabelEncoder, StandardScaler\n",
    "from sklearn.ensemble import RandomForestClassifier\n",
    "from sklearn.tree import DecisionTreeClassifier\n",
    "from sklearn.linear_model import LogisticRegression\n",
    "from sklearn.model_selection import cross_val_score\n",
    "\n",
    "np.random.seed(19)"
   ]
  },
  {
   "cell_type": "markdown",
   "metadata": {
    "_cell_guid": "08385ce2-ef5e-40c5-984e-ee99d8e9be50",
    "_uuid": "5674cb8de6a63b737aee0f92c37317e09aea33f8"
   },
   "source": [
    "### 读入数据"
   ]
  },
  {
   "cell_type": "code",
   "execution_count": 2,
   "metadata": {
    "_cell_guid": "dfe9a941-a6bf-47bf-9724-07c1a2bb12b9",
    "_uuid": "50504f95c9a7b933566d1532a93f76dc2d3b16f2"
   },
   "outputs": [],
   "source": [
    "data_folder = \"./input\"\n",
    "data = pd.read_csv(os.path.join(data_folder, \"mushrooms.csv\"), header=None)\n"
   ]
  },
  {
   "cell_type": "code",
   "execution_count": 3,
   "metadata": {
    "_cell_guid": "6b818ab3-e979-4e1e-865e-4498e1ac6ee7",
    "_uuid": "d3ded1f87737707931afcdddb668728e8d35e0df"
   },
   "outputs": [
    {
     "data": {
      "text/html": [
       "<div>\n",
       "<style scoped>\n",
       "    .dataframe tbody tr th:only-of-type {\n",
       "        vertical-align: middle;\n",
       "    }\n",
       "\n",
       "    .dataframe tbody tr th {\n",
       "        vertical-align: top;\n",
       "    }\n",
       "\n",
       "    .dataframe thead th {\n",
       "        text-align: right;\n",
       "    }\n",
       "</style>\n",
       "<table border=\"1\" class=\"dataframe\">\n",
       "  <thead>\n",
       "    <tr style=\"text-align: right;\">\n",
       "      <th></th>\n",
       "      <th>0</th>\n",
       "      <th>1</th>\n",
       "      <th>2</th>\n",
       "      <th>3</th>\n",
       "      <th>4</th>\n",
       "      <th>5</th>\n",
       "      <th>6</th>\n",
       "      <th>7</th>\n",
       "      <th>8</th>\n",
       "      <th>9</th>\n",
       "      <th>...</th>\n",
       "      <th>13</th>\n",
       "      <th>14</th>\n",
       "      <th>15</th>\n",
       "      <th>16</th>\n",
       "      <th>17</th>\n",
       "      <th>18</th>\n",
       "      <th>19</th>\n",
       "      <th>20</th>\n",
       "      <th>21</th>\n",
       "      <th>22</th>\n",
       "    </tr>\n",
       "  </thead>\n",
       "  <tbody>\n",
       "    <tr>\n",
       "      <th>0</th>\n",
       "      <td>class</td>\n",
       "      <td>cap-shape</td>\n",
       "      <td>cap-surface</td>\n",
       "      <td>cap-color</td>\n",
       "      <td>bruises</td>\n",
       "      <td>odor</td>\n",
       "      <td>gill-attachment</td>\n",
       "      <td>gill-spacing</td>\n",
       "      <td>gill-size</td>\n",
       "      <td>gill-color</td>\n",
       "      <td>...</td>\n",
       "      <td>stalk-surface-below-ring</td>\n",
       "      <td>stalk-color-above-ring</td>\n",
       "      <td>stalk-color-below-ring</td>\n",
       "      <td>veil-type</td>\n",
       "      <td>veil-color</td>\n",
       "      <td>ring-number</td>\n",
       "      <td>ring-type</td>\n",
       "      <td>spore-print-color</td>\n",
       "      <td>population</td>\n",
       "      <td>habitat</td>\n",
       "    </tr>\n",
       "    <tr>\n",
       "      <th>1</th>\n",
       "      <td>p</td>\n",
       "      <td>x</td>\n",
       "      <td>s</td>\n",
       "      <td>n</td>\n",
       "      <td>t</td>\n",
       "      <td>p</td>\n",
       "      <td>f</td>\n",
       "      <td>c</td>\n",
       "      <td>n</td>\n",
       "      <td>k</td>\n",
       "      <td>...</td>\n",
       "      <td>s</td>\n",
       "      <td>w</td>\n",
       "      <td>w</td>\n",
       "      <td>p</td>\n",
       "      <td>w</td>\n",
       "      <td>o</td>\n",
       "      <td>p</td>\n",
       "      <td>k</td>\n",
       "      <td>s</td>\n",
       "      <td>u</td>\n",
       "    </tr>\n",
       "    <tr>\n",
       "      <th>2</th>\n",
       "      <td>e</td>\n",
       "      <td>x</td>\n",
       "      <td>s</td>\n",
       "      <td>y</td>\n",
       "      <td>t</td>\n",
       "      <td>a</td>\n",
       "      <td>f</td>\n",
       "      <td>c</td>\n",
       "      <td>b</td>\n",
       "      <td>k</td>\n",
       "      <td>...</td>\n",
       "      <td>s</td>\n",
       "      <td>w</td>\n",
       "      <td>w</td>\n",
       "      <td>p</td>\n",
       "      <td>w</td>\n",
       "      <td>o</td>\n",
       "      <td>p</td>\n",
       "      <td>n</td>\n",
       "      <td>n</td>\n",
       "      <td>g</td>\n",
       "    </tr>\n",
       "    <tr>\n",
       "      <th>3</th>\n",
       "      <td>e</td>\n",
       "      <td>b</td>\n",
       "      <td>s</td>\n",
       "      <td>w</td>\n",
       "      <td>t</td>\n",
       "      <td>l</td>\n",
       "      <td>f</td>\n",
       "      <td>c</td>\n",
       "      <td>b</td>\n",
       "      <td>n</td>\n",
       "      <td>...</td>\n",
       "      <td>s</td>\n",
       "      <td>w</td>\n",
       "      <td>w</td>\n",
       "      <td>p</td>\n",
       "      <td>w</td>\n",
       "      <td>o</td>\n",
       "      <td>p</td>\n",
       "      <td>n</td>\n",
       "      <td>n</td>\n",
       "      <td>m</td>\n",
       "    </tr>\n",
       "    <tr>\n",
       "      <th>4</th>\n",
       "      <td>p</td>\n",
       "      <td>x</td>\n",
       "      <td>y</td>\n",
       "      <td>w</td>\n",
       "      <td>t</td>\n",
       "      <td>p</td>\n",
       "      <td>f</td>\n",
       "      <td>c</td>\n",
       "      <td>n</td>\n",
       "      <td>n</td>\n",
       "      <td>...</td>\n",
       "      <td>s</td>\n",
       "      <td>w</td>\n",
       "      <td>w</td>\n",
       "      <td>p</td>\n",
       "      <td>w</td>\n",
       "      <td>o</td>\n",
       "      <td>p</td>\n",
       "      <td>k</td>\n",
       "      <td>s</td>\n",
       "      <td>u</td>\n",
       "    </tr>\n",
       "  </tbody>\n",
       "</table>\n",
       "<p>5 rows × 23 columns</p>\n",
       "</div>"
      ],
      "text/plain": [
       "      0          1            2          3        4     5                6   \\\n",
       "0  class  cap-shape  cap-surface  cap-color  bruises  odor  gill-attachment   \n",
       "1      p          x            s          n        t     p                f   \n",
       "2      e          x            s          y        t     a                f   \n",
       "3      e          b            s          w        t     l                f   \n",
       "4      p          x            y          w        t     p                f   \n",
       "\n",
       "             7          8           9    ...                           13  \\\n",
       "0  gill-spacing  gill-size  gill-color   ...     stalk-surface-below-ring   \n",
       "1             c          n           k   ...                            s   \n",
       "2             c          b           k   ...                            s   \n",
       "3             c          b           n   ...                            s   \n",
       "4             c          n           n   ...                            s   \n",
       "\n",
       "                       14                      15         16          17  \\\n",
       "0  stalk-color-above-ring  stalk-color-below-ring  veil-type  veil-color   \n",
       "1                       w                       w          p           w   \n",
       "2                       w                       w          p           w   \n",
       "3                       w                       w          p           w   \n",
       "4                       w                       w          p           w   \n",
       "\n",
       "            18         19                 20          21       22  \n",
       "0  ring-number  ring-type  spore-print-color  population  habitat  \n",
       "1            o          p                  k           s        u  \n",
       "2            o          p                  n           n        g  \n",
       "3            o          p                  n           n        m  \n",
       "4            o          p                  k           s        u  \n",
       "\n",
       "[5 rows x 23 columns]"
      ]
     },
     "execution_count": 3,
     "metadata": {},
     "output_type": "execute_result"
    }
   ],
   "source": [
    "data.head()"
   ]
  },
  {
   "cell_type": "markdown",
   "metadata": {
    "_cell_guid": "32b11d62-b251-4edd-979d-22c7e16fbdc1",
    "_uuid": "3cf991f30db17a1326e623dfc9e36562a31b93af"
   },
   "source": [
    "### 处理二分类问题的标签"
   ]
  },
  {
   "cell_type": "code",
   "execution_count": null,
   "metadata": {
    "_cell_guid": "c727d84e-9b27-42b9-a165-317c506b4ba2",
    "_uuid": "5917db08fe8371c651865d00177acc6db2d23140",
    "collapsed": true
   },
   "outputs": [],
   "source": [
    "data[0] = data.apply(lambda row: 0 if row[0] == 'e' else 1, axis=1)"
   ]
  },
  {
   "cell_type": "markdown",
   "metadata": {
    "_cell_guid": "c6c0bec7-23ed-48e3-be65-135c75249ef7",
    "_uuid": "1277df91dc2ecca7d9a1ab5885d80f8452b4f975"
   },
   "source": [
    "### 处理每列的数据"
   ]
  },
  {
   "cell_type": "code",
   "execution_count": null,
   "metadata": {
    "_cell_guid": "77326148-94f8-40ee-9103-c96f68d9d8d4",
    "_uuid": "0611c2e8d97e963d397c9495fee635a237393cae",
    "collapsed": true
   },
   "outputs": [],
   "source": [
    "# 每一列如果有null，用\"missing\"代替\n",
    "cols = np.arange(1,23)\n",
    "for col in cols:\n",
    "    if np.any(data[col].isnull()):\n",
    "        data.loc[data[col].isnull(), col] = 'missing'\n"
   ]
  },
  {
   "cell_type": "code",
   "execution_count": null,
   "metadata": {
    "_cell_guid": "deefaf4b-12b4-43e4-9227-3d6893b0b6af",
    "_uuid": "c34bf0957abc2bc4bc8400d31b8fabb30fe41023",
    "collapsed": true
   },
   "outputs": [],
   "source": [
    "labelEncoders = dict()\n",
    "\n",
    "# 对每一列进行one hot encoding\n",
    "for col in cols:\n",
    "    encoder = LabelEncoder()\n",
    "    values = data[col].tolist()\n",
    "    values.append('missing')  #加入missing这种值\n",
    "    encoder.fit(values)\n",
    "    labelEncoders[col] = encoder\n",
    "\n",
    "# 计算one hot encoding之后的列数\n",
    "dimensionality = 0\n",
    "for col, encoder in labelEncoders.items():\n",
    "    dimensionality += len(encoder.classes_)\n",
    "print(\"dimensionality:  %d\" % (dimensionality))"
   ]
  },
  {
   "cell_type": "code",
   "execution_count": null,
   "metadata": {
    "_cell_guid": "61b851bc-c588-41de-90a1-89ed8fac0d26",
    "_uuid": "19844174200c921ee2df909659dc5d69e2d8b0de",
    "collapsed": true
   },
   "outputs": [],
   "source": [
    "# 用于测试数据的变换\n",
    "def transform(df):\n",
    "    N, _ = df.shape\n",
    "    X = np.zeros((N, dimensionality))\n",
    "    i = 0\n",
    "    for col ,encoder in labelEncoders.items():\n",
    "        k = len(encoder.classes_)\n",
    "        X[np.arange(N), encoder.transform(df[col]) + i] = 1\n",
    "        i += k\n",
    "    return X"
   ]
  },
  {
   "cell_type": "code",
   "execution_count": null,
   "metadata": {
    "_cell_guid": "e8b11ffc-4f41-4311-8405-a12421b348df",
    "_uuid": "9e91a5e2119ca488c58a30f1ef490985e59c99fc",
    "collapsed": true
   },
   "outputs": [],
   "source": [
    "# 准备数据和标签\n",
    "X = transform(data)\n",
    "Y = data[0].as_matrix()"
   ]
  },
  {
   "cell_type": "markdown",
   "metadata": {
    "_cell_guid": "27cf7d9f-7434-42ad-9c62-cecece31579c",
    "_uuid": "9462ff57770b47d45f998e28bf9b3fc7f55c5d79"
   },
   "source": [
    "### Logistic回归的表现"
   ]
  },
  {
   "cell_type": "code",
   "execution_count": null,
   "metadata": {
    "_cell_guid": "a226804f-8a18-438e-b69e-1ee918447c50",
    "_uuid": "e0aa02b4e8076fef2aa1ef27b8a6b47d7e2928fa",
    "collapsed": true
   },
   "outputs": [],
   "source": [
    "logistic_model = LogisticRegression()\n",
    "print(\"logistic Regression performance: %f\" % (cross_val_score(logistic_model, X, Y, cv=8).mean()))"
   ]
  },
  {
   "cell_type": "markdown",
   "metadata": {
    "_cell_guid": "321fedec-b3e9-4de5-8f82-44b63fc26f75",
    "_uuid": "aa577dc653ae98716fcf735e81fab784efce724e"
   },
   "source": [
    "### 决策树的表现"
   ]
  },
  {
   "cell_type": "code",
   "execution_count": null,
   "metadata": {
    "_cell_guid": "be80d76a-2d2d-474c-87b3-10e2b1788360",
    "_uuid": "0a34233656b505f1227b71d51a0071ec63f60d08",
    "collapsed": true
   },
   "outputs": [],
   "source": [
    "tree_model = DecisionTreeClassifier()\n",
    "print(\"Decision Tree performance: %f\" % (cross_val_score(tree_model, X, Y, cv=8).mean()))"
   ]
  },
  {
   "cell_type": "markdown",
   "metadata": {
    "_cell_guid": "12c4a293-1440-49b6-8b6e-1d1a1632b72a",
    "_uuid": "71685809dd075e7a77f5c0593d3c8623bf8eb0a5"
   },
   "source": [
    "### 随机森林的表现"
   ]
  },
  {
   "cell_type": "code",
   "execution_count": null,
   "metadata": {
    "_cell_guid": "544d8a71-adc8-49a4-8777-606734fd5bfb",
    "_uuid": "b6b4d15d2577463017c47b02ea89c9e92b3c2222",
    "collapsed": true
   },
   "outputs": [],
   "source": [
    "forest = RandomForestClassifier(n_estimators=20)\n",
    "print(\"Random Forest performance: %f\" % (cross_val_score(tree_model, X, Y, cv=8).mean()))"
   ]
  },
  {
   "cell_type": "code",
   "execution_count": null,
   "metadata": {
    "_cell_guid": "2dee0147-fb41-4123-b1f9-95ba54d2f02b",
    "_uuid": "fa89739ab6a872d0a2469ba90f0fce17c59471f1",
    "collapsed": true
   },
   "outputs": [],
   "source": []
  },
  {
   "cell_type": "code",
   "execution_count": null,
   "metadata": {
    "_cell_guid": "80f3c40b-e506-46d6-8efa-b71e9f857a66",
    "_uuid": "76bfb5590a4cf31d02859360fe418206a9dfcf70",
    "collapsed": true
   },
   "outputs": [],
   "source": [
    "from sklearn.base import BaseEstimator"
   ]
  },
  {
   "cell_type": "markdown",
   "metadata": {
    "_cell_guid": "b1fd75ee-5bb5-4473-970d-adc8ed46b134",
    "_uuid": "267ded611f4eba776dbd9938cb47563b79882662"
   },
   "source": [
    "### 伪随机森林的实现"
   ]
  },
  {
   "cell_type": "code",
   "execution_count": null,
   "metadata": {
    "_cell_guid": "68163d87-81a2-4899-b3c3-92be431ba213",
    "_uuid": "14520bbcfe02e61dc9f13c7f3368e262deeedfdb",
    "collapsed": true
   },
   "outputs": [],
   "source": [
    "class FakeRandomForest(BaseEstimator):\n",
    "    \n",
    "    def __init__(self, M):\n",
    "        self.M = M\n",
    "        \n",
    "        \n",
    "    def fit(self, X, Y, n_features=None):\n",
    "        N,D = X.shape\n",
    "        if n_features is None:\n",
    "            # 特征的个数\n",
    "            n_features = int(np.sqrt(D))\n",
    "        \n",
    "        # 袋子。。\n",
    "        self.models = []\n",
    "        \n",
    "        # 特征\n",
    "        self.features = []\n",
    "        \n",
    "        for m in range(self.M):\n",
    "            tree = DecisionTreeClassifier()\n",
    "            \n",
    "            #有放回的随机抽取N个数据\n",
    "            idx = np.random.choice(N, size=N, replace=True)\n",
    "            X_current = X[idx]\n",
    "            Y_current = Y[idx]\n",
    "            \n",
    "            #随机抽取n_features个特征\n",
    "            features = np.random.choice(D, size=n_features, replace=False)\n",
    "            \n",
    "            #训练当前的决策树模型\n",
    "            tree.fit(X_current[:, features], Y_current)\n",
    "            self.features.append(features)\n",
    "            self.models.append(tree)\n",
    "            \n",
    "    \n",
    "    def predict(self, X):\n",
    "        N = len(X)\n",
    "        results = np.zeros(N)\n",
    "        for features, tree in zip(self.features, self.models):\n",
    "            results += tree.predict(X[:, features])\n",
    "        return np.round(results/ self.M)\n",
    "    \n",
    "    def score(self, X, Y):\n",
    "        prediction = self.predict(X)\n",
    "        return np.mean(prediction == Y)\n",
    "        \n",
    "            \n",
    "            \n",
    "            "
   ]
  },
  {
   "cell_type": "code",
   "execution_count": null,
   "metadata": {
    "_cell_guid": "5622606c-93a6-40f2-909e-7cbe6aa886a9",
    "_uuid": "bad921560fb28f3d24cdf5609ad1459bf841da22",
    "collapsed": true
   },
   "outputs": [],
   "source": []
  },
  {
   "cell_type": "markdown",
   "metadata": {
    "_cell_guid": "7dad89dc-bc2f-4e89-b3e2-ab69b4e5b3f0",
    "_uuid": "975f72e165a5978f84efc7553f990d501e060c8b"
   },
   "source": [
    "### Bagging决策树的实现"
   ]
  },
  {
   "cell_type": "code",
   "execution_count": null,
   "metadata": {
    "_cell_guid": "2278cc19-b7b1-4a75-9c52-40c88ad9ce13",
    "_uuid": "09d6d553d0b5e60efa69d53a6813020fe95b8434",
    "collapsed": true
   },
   "outputs": [],
   "source": [
    "class BaggedTreeClassifier(BaseEstimator):\n",
    "    def __init__(self, M):\n",
    "        self.M = M\n",
    "\n",
    "    def fit(self, X, Y):\n",
    "        N = len(X)\n",
    "        self.models = []\n",
    "        for m in range(self.M):\n",
    "            idx = np.random.choice(N, size=N, replace=True)\n",
    "            Xb = X[idx]\n",
    "            Yb = Y[idx]\n",
    "\n",
    "            model = DecisionTreeClassifier(max_depth=2)\n",
    "            model.fit(Xb, Yb)\n",
    "            self.models.append(model)\n",
    "\n",
    "    def predict(self, X):\n",
    "        # no need to keep a dictionary since we are doing binary classification\n",
    "        predictions = np.zeros(len(X))\n",
    "        for model in self.models:\n",
    "            predictions += model.predict(X)\n",
    "        return np.round(predictions / self.M)\n",
    "\n",
    "    def score(self, X, Y):\n",
    "        P = self.predict(X)\n",
    "        return np.mean(Y == P)"
   ]
  },
  {
   "cell_type": "code",
   "execution_count": null,
   "metadata": {
    "_cell_guid": "479aa0de-ca84-4c07-9c6f-ecfe77621c79",
    "_uuid": "ab5bf1759d6516030a713012b903c29a870828fa",
    "collapsed": true
   },
   "outputs": [],
   "source": [
    "baggedtc = BaggedTreeClassifier(20)"
   ]
  },
  {
   "cell_type": "code",
   "execution_count": null,
   "metadata": {
    "_cell_guid": "35c259de-c344-4fb1-9a2b-baa875fb5d30",
    "_uuid": "7b0a7616e4a4afb56fb325c3557fa7f0a63a3ca1",
    "collapsed": true
   },
   "outputs": [],
   "source": [
    "cross_val_score(baggedtc, X, Y, cv=8).mean()"
   ]
  },
  {
   "cell_type": "code",
   "execution_count": null,
   "metadata": {
    "_cell_guid": "0ad9f308-2fa5-4703-bc0f-e671db53e014",
    "_uuid": "0cc611bb25ddfe2a1f4c9563bb87309c912a7a45",
    "collapsed": true
   },
   "outputs": [],
   "source": [
    "fakerf = FakeRandomForest(20)"
   ]
  },
  {
   "cell_type": "code",
   "execution_count": null,
   "metadata": {
    "_cell_guid": "ff27421e-3a94-4832-8ea6-5f71de11494c",
    "_uuid": "16ea33f8e6f2450932b8aede058300ca52c53e63",
    "collapsed": true
   },
   "outputs": [],
   "source": [
    "cross_val_score(fakerf, X, Y, cv=8).mean()"
   ]
  },
  {
   "cell_type": "markdown",
   "metadata": {
    "_cell_guid": "081f13ba-dd0f-4275-b1a9-7836a27234af",
    "_uuid": "468e5205bb0f8bbb88ff598ca0da6179cab0b8b5"
   },
   "source": [
    "### 用随机森林做regression  \n",
    "\n",
    "#### 这一节课我们利用现成的随机森林库函数对房价做预测\n",
    "\n",
    "- 数据来源： https://www.kaggle.com/harlfoxem/housesalesprediction/data  \n",
    "- 对比模型： 随机森林，线性回归模型"
   ]
  },
  {
   "cell_type": "code",
   "execution_count": null,
   "metadata": {
    "_cell_guid": "93c60469-ef06-4367-b853-caa8eb5d5a5e",
    "_uuid": "a03428f7a231b77e15b4baf59bff55f8fbfed6c2",
    "collapsed": true
   },
   "outputs": [],
   "source": [
    "from sklearn.ensemble import RandomForestRegressor\n",
    "from sklearn.linear_model import LinearRegression"
   ]
  },
  {
   "cell_type": "code",
   "execution_count": null,
   "metadata": {
    "_cell_guid": "f5ab3d5d-66bb-40f1-a9a0-3c4ea26ca4b4",
    "_uuid": "0139a8c0ea503a1483a7c38b7812df2827657565",
    "collapsed": true
   },
   "outputs": [],
   "source": [
    "house_data = pd.read_csv(os.path.join(data_folder, \"kc_house_data.csv\"))"
   ]
  },
  {
   "cell_type": "code",
   "execution_count": null,
   "metadata": {
    "_cell_guid": "cd97dfaf-5a9e-418e-af38-ba9ca00bae4a",
    "_uuid": "76e7507e199bb31eb342503fe0ab5d93eb8713f0",
    "collapsed": true
   },
   "outputs": [],
   "source": [
    "house_data.head()"
   ]
  },
  {
   "cell_type": "code",
   "execution_count": null,
   "metadata": {
    "_cell_guid": "a320ce9d-78ef-41e0-a1f4-4ef3139708a4",
    "_uuid": "3aa50381e6d4b2c8c1dbd7ce3cb13fa6d58e823b",
    "collapsed": true
   },
   "outputs": [],
   "source": [
    "house_data.columns"
   ]
  },
  {
   "cell_type": "code",
   "execution_count": null,
   "metadata": {
    "_cell_guid": "6164b84e-b75f-45cd-a894-57f0df50bbe3",
    "_uuid": "fd993d9dbe313c6c3882b9d97a8420a8b4c826b4",
    "collapsed": true
   },
   "outputs": [],
   "source": [
    "# price is the target\n",
    "NUMERICAL_COLS = ['price', 'bedrooms', 'bathrooms', 'sqft_living', 'sqft_lot', 'sqft_above','sqft_basement',\n",
    "                 'sqft_living15', 'sqft_lot15']"
   ]
  },
  {
   "cell_type": "markdown",
   "metadata": {
    "_cell_guid": "19300c21-d051-4994-a478-356a75f8d73f",
    "_uuid": "007bf1c61e00eb4051b444f22ea9bc7cbcf840e7"
   },
   "source": [
    "### 处理一下每一列的数据"
   ]
  },
  {
   "cell_type": "code",
   "execution_count": null,
   "metadata": {
    "_cell_guid": "d793148e-1c67-4e0b-9c71-63977fff7e34",
    "_uuid": "48a4e288b61ca5129541d6d2fa0be3016ecd3b74",
    "collapsed": true
   },
   "outputs": [],
   "source": [
    "# fit 每一列数据的scaler\n",
    "scalers = dict()\n",
    "for col in NUMERICAL_COLS:\n",
    "    scaler = StandardScaler()\n",
    "    scaler.fit(house_data[col].as_matrix().astype(np.float64).reshape(-1,1))\n",
    "    scalers[col] = scaler\n",
    "    "
   ]
  },
  {
   "cell_type": "code",
   "execution_count": null,
   "metadata": {
    "_cell_guid": "cd7ea2c5-344b-4470-a9e7-bc80bec98f87",
    "_uuid": "2de24e72144925abae74598a3fa1de2cce4b577e",
    "collapsed": true
   },
   "outputs": [],
   "source": [
    "def transform_numerical(df):\n",
    "    N, _ = df.shape\n",
    "    D = len(NUMERICAL_COLS)\n",
    "    result = np.zeros((N,D))\n",
    "    i = 0\n",
    "    for col, scaler in scalers.items():\n",
    "        result[:, i] = scaler.transform(df[col].as_matrix().astype(np.float64).reshape(1,-1))\n",
    "        i += 1\n",
    "    return result    \n"
   ]
  },
  {
   "cell_type": "code",
   "execution_count": null,
   "metadata": {
    "_cell_guid": "57020ce1-46fa-4eb4-9030-02167a40e108",
    "_uuid": "7eb2a0cf51d5690b615766ca408abe654cfd702c",
    "collapsed": true
   },
   "outputs": [],
   "source": [
    "from sklearn.model_selection import train_test_split"
   ]
  },
  {
   "cell_type": "code",
   "execution_count": null,
   "metadata": {
    "_cell_guid": "f464583e-f3d3-4941-8051-f2ea9eeaa7d1",
    "_uuid": "e03d5bae5beda42791c81aa9f0e374a4194d9544",
    "collapsed": true
   },
   "outputs": [],
   "source": [
    "hdata = transform_numerical(house_data)"
   ]
  },
  {
   "cell_type": "code",
   "execution_count": null,
   "metadata": {
    "_cell_guid": "65cdf3de-a9a5-4e9b-bb6e-9f82bbde2136",
    "_uuid": "9df099edd98c9d2665ebd332b3d6b830e38a82b3",
    "collapsed": true
   },
   "outputs": [],
   "source": [
    "train_data, test_data = train_test_split(hdata, test_size=0.2)"
   ]
  },
  {
   "cell_type": "code",
   "execution_count": null,
   "metadata": {
    "_cell_guid": "a18f36f5-cb63-4059-81b4-ce78af7497ea",
    "_uuid": "476b6d8f730136742ba761b9f813367825807c84",
    "collapsed": true
   },
   "outputs": [],
   "source": [
    "trainX, trainY = train_data[:,1:], train_data[:, 0]\n",
    "testX, testY = test_data[:, 1:], test_data[:, 0]\n"
   ]
  },
  {
   "cell_type": "code",
   "execution_count": null,
   "metadata": {
    "_cell_guid": "20039a58-51fc-44bf-89bf-d17008bebd2e",
    "_uuid": "cda3b2ad053b8f8e0d5704261173e541b499bc5a",
    "collapsed": true
   },
   "outputs": [],
   "source": [
    "rfregressor = RandomForestRegressor(n_estimators=100)\n",
    "rfregressor.fit(trainX, trainY)\n",
    "predictions = rfregressor.predict(testX)"
   ]
  },
  {
   "cell_type": "markdown",
   "metadata": {
    "_cell_guid": "1497e2fd-8dcb-4972-a03b-94b8d2752ed0",
    "_uuid": "8fb88bbf267615fdce2757cba5b584692b7481b8"
   },
   "source": [
    "### 可视化预测的结果"
   ]
  },
  {
   "cell_type": "code",
   "execution_count": null,
   "metadata": {
    "_cell_guid": "0564acf7-4f7c-44a8-b6f1-d40ea658983c",
    "_uuid": "d5bfa0a7bdd948121b3e7721dab825cfe6a20761",
    "collapsed": true
   },
   "outputs": [],
   "source": [
    "plt.scatter(testY, predictions)\n",
    "plt.xlabel(\"target\")\n",
    "plt.ylabel(\"prediction\")\n",
    "ymin = np.round(min(min(testY), min(predictions)))\n",
    "ymax = np.ceil(max(max(testY), max(predictions)))\n",
    "r = range(int(ymin), int(ymax) + 1)\n",
    "plt.plot(r,r)\n",
    "plt.show()"
   ]
  },
  {
   "cell_type": "code",
   "execution_count": null,
   "metadata": {
    "_cell_guid": "e6d5356a-89d9-4698-a149-18c2aad8dc0d",
    "_uuid": "d0993911e4dc34ff568216d958c3cca8360b56f8",
    "collapsed": true
   },
   "outputs": [],
   "source": [
    "plt.plot(testY, label='targets')\n",
    "plt.plot(predictions, label='predictions')\n",
    "plt.legend()\n",
    "plt.show()"
   ]
  },
  {
   "cell_type": "code",
   "execution_count": null,
   "metadata": {
    "_cell_guid": "a1443273-b6a9-4ef7-820e-1cddd2a620f5",
    "_uuid": "7449728eb060fb6972a0fc2bf047e9b6d5e3600b",
    "collapsed": true
   },
   "outputs": [],
   "source": [
    "lr = LinearRegression()\n",
    "print(\"linear regression performance: %f\" % (cross_val_score(lr, trainX, trainY).mean()))"
   ]
  },
  {
   "cell_type": "code",
   "execution_count": null,
   "metadata": {
    "_cell_guid": "b1bf7880-6315-4d1f-abce-6ec9511484c1",
    "_uuid": "7c665be54fb5d726558249a400528a0e704e6f0e",
    "collapsed": true
   },
   "outputs": [],
   "source": [
    "print(\"random forest regressor performance: %f\" % (cross_val_score(rfregressor, trainX, trainY).mean()))"
   ]
  },
  {
   "cell_type": "code",
   "execution_count": null,
   "metadata": {
    "_cell_guid": "eb0dcb69-3632-4770-ab47-3cf8d68c8cdd",
    "_uuid": "c77ff627cef301be2669531db05bc0b418ef5722",
    "collapsed": true
   },
   "outputs": [],
   "source": [
    "lr.fit(trainX, trainY)\n",
    "print(\"linear regression test score: %f\" % (lr.score(testX, testY)))"
   ]
  },
  {
   "cell_type": "code",
   "execution_count": null,
   "metadata": {
    "_cell_guid": "38c20cba-5958-40e0-96e0-d7f99f15a842",
    "_uuid": "56ed3183db7738f796a27abb364d38b36ab32bce",
    "collapsed": true
   },
   "outputs": [],
   "source": [
    "rfregressor.fit(trainX, trainY)\n",
    "print(\"random forest regressor test score: %f\" % (rfregressor.score(testX, testY)))"
   ]
  },
  {
   "cell_type": "code",
   "execution_count": null,
   "metadata": {
    "_cell_guid": "8f680f65-18e2-445b-a3b6-3815832a5b12",
    "_uuid": "ed127bb5fe41adfe6ad065b8bc2864e6caf40ec2",
    "collapsed": true
   },
   "outputs": [],
   "source": []
  }
 ],
 "metadata": {
  "kernelspec": {
   "display_name": "Python 3",
   "language": "python",
   "name": "python3"
  },
  "language_info": {
   "codemirror_mode": {
    "name": "ipython",
    "version": 3
   },
   "file_extension": ".py",
   "mimetype": "text/x-python",
   "name": "python",
   "nbconvert_exporter": "python",
   "pygments_lexer": "ipython3",
   "version": "3.6.6"
  }
 },
 "nbformat": 4,
 "nbformat_minor": 1
}
