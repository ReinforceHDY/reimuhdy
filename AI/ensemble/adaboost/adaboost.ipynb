{
 "cells": [
  {
   "cell_type": "markdown",
   "metadata": {
    "_cell_guid": "a91b3753-f16c-4769-a0b4-0b74bbd08b51",
    "_uuid": "9324fc6fcfde0c7843eb255ca97db5571272ac5d"
   },
   "source": [
    "### 本节课调用adaboost以及基于简单决策树实现adaboost模型  \n",
    "\n",
    "#### 我们将利用adaboost模型对肿瘤类型进行判断与分类\n",
    "\n",
    "- 数据来源： https://www.kaggle.com/uciml/breast-cancer-wisconsin-data  \n",
    "- 对比模型： Adaboost模型"
   ]
  },
  {
   "cell_type": "code",
   "execution_count": 1,
   "metadata": {
    "_cell_guid": "92937649-3e59-4c25-b7e7-7bb6b61aef0c",
    "_uuid": "1dccc7ebc5785b68b12b51018c6e5300004da9dd"
   },
   "outputs": [
    {
     "name": "stderr",
     "output_type": "stream",
     "text": [
      "C:\\Users\\Reimu\\Anaconda3\\lib\\site-packages\\sklearn\\ensemble\\weight_boosting.py:29: DeprecationWarning: numpy.core.umath_tests is an internal NumPy module and should not be imported. It will be removed in a future NumPy release.\n",
      "  from numpy.core.umath_tests import inner1d\n"
     ]
    }
   ],
   "source": [
    "# necessary imports\n",
    "%matplotlib inline\n",
    "import os\n",
    "import numpy as np\n",
    "import pandas as pd\n",
    "import matplotlib.pyplot as plt\n",
    "\n",
    "from sklearn.preprocessing import LabelEncoder, StandardScaler\n",
    "from sklearn.ensemble import AdaBoostClassifier\n",
    "from sklearn.tree import DecisionTreeClassifier\n",
    "from sklearn.linear_model import LogisticRegression\n",
    "from sklearn.model_selection import cross_val_score\n",
    "\n",
    "np.random.seed(19)"
   ]
  },
  {
   "cell_type": "code",
   "execution_count": null,
   "metadata": {
    "_cell_guid": "4ff25ead-c43f-4bab-a9e8-53c78f470d36",
    "_uuid": "90ebf6c6e425aa1e5d0641a6493c9d7a51efa2cf",
    "collapsed": true
   },
   "outputs": [],
   "source": []
  },
  {
   "cell_type": "code",
   "execution_count": 3,
   "metadata": {
    "_cell_guid": "2e7fedcd-0f4f-4242-b00c-cf84c62b064c",
    "_uuid": "9430b2156d95bff56140e8e8c4cc33a15bf3ba62"
   },
   "outputs": [],
   "source": [
    "data_folder = \"./input\"\n",
    "#data_folder = \"data\"\n",
    "data = pd.read_csv(os.path.join(data_folder, \"breastCancer.csv\"))"
   ]
  },
  {
   "cell_type": "code",
   "execution_count": 4,
   "metadata": {
    "_cell_guid": "b91669e1-c29f-4f82-bb38-75eaf3d0f7ac",
    "_uuid": "45fadadde3c8ee99f0c340bc741bd3d04d68b9ca"
   },
   "outputs": [
    {
     "data": {
      "text/html": [
       "<div>\n",
       "<style scoped>\n",
       "    .dataframe tbody tr th:only-of-type {\n",
       "        vertical-align: middle;\n",
       "    }\n",
       "\n",
       "    .dataframe tbody tr th {\n",
       "        vertical-align: top;\n",
       "    }\n",
       "\n",
       "    .dataframe thead th {\n",
       "        text-align: right;\n",
       "    }\n",
       "</style>\n",
       "<table border=\"1\" class=\"dataframe\">\n",
       "  <thead>\n",
       "    <tr style=\"text-align: right;\">\n",
       "      <th></th>\n",
       "      <th>id</th>\n",
       "      <th>diagnosis</th>\n",
       "      <th>radius_mean</th>\n",
       "      <th>texture_mean</th>\n",
       "      <th>perimeter_mean</th>\n",
       "      <th>area_mean</th>\n",
       "      <th>smoothness_mean</th>\n",
       "      <th>compactness_mean</th>\n",
       "      <th>concavity_mean</th>\n",
       "      <th>concave points_mean</th>\n",
       "      <th>...</th>\n",
       "      <th>texture_worst</th>\n",
       "      <th>perimeter_worst</th>\n",
       "      <th>area_worst</th>\n",
       "      <th>smoothness_worst</th>\n",
       "      <th>compactness_worst</th>\n",
       "      <th>concavity_worst</th>\n",
       "      <th>concave points_worst</th>\n",
       "      <th>symmetry_worst</th>\n",
       "      <th>fractal_dimension_worst</th>\n",
       "      <th>Unnamed: 32</th>\n",
       "    </tr>\n",
       "  </thead>\n",
       "  <tbody>\n",
       "    <tr>\n",
       "      <th>0</th>\n",
       "      <td>842302</td>\n",
       "      <td>M</td>\n",
       "      <td>17.99</td>\n",
       "      <td>10.38</td>\n",
       "      <td>122.80</td>\n",
       "      <td>1001.0</td>\n",
       "      <td>0.11840</td>\n",
       "      <td>0.27760</td>\n",
       "      <td>0.3001</td>\n",
       "      <td>0.14710</td>\n",
       "      <td>...</td>\n",
       "      <td>17.33</td>\n",
       "      <td>184.60</td>\n",
       "      <td>2019.0</td>\n",
       "      <td>0.1622</td>\n",
       "      <td>0.6656</td>\n",
       "      <td>0.7119</td>\n",
       "      <td>0.2654</td>\n",
       "      <td>0.4601</td>\n",
       "      <td>0.11890</td>\n",
       "      <td>NaN</td>\n",
       "    </tr>\n",
       "    <tr>\n",
       "      <th>1</th>\n",
       "      <td>842517</td>\n",
       "      <td>M</td>\n",
       "      <td>20.57</td>\n",
       "      <td>17.77</td>\n",
       "      <td>132.90</td>\n",
       "      <td>1326.0</td>\n",
       "      <td>0.08474</td>\n",
       "      <td>0.07864</td>\n",
       "      <td>0.0869</td>\n",
       "      <td>0.07017</td>\n",
       "      <td>...</td>\n",
       "      <td>23.41</td>\n",
       "      <td>158.80</td>\n",
       "      <td>1956.0</td>\n",
       "      <td>0.1238</td>\n",
       "      <td>0.1866</td>\n",
       "      <td>0.2416</td>\n",
       "      <td>0.1860</td>\n",
       "      <td>0.2750</td>\n",
       "      <td>0.08902</td>\n",
       "      <td>NaN</td>\n",
       "    </tr>\n",
       "    <tr>\n",
       "      <th>2</th>\n",
       "      <td>84300903</td>\n",
       "      <td>M</td>\n",
       "      <td>19.69</td>\n",
       "      <td>21.25</td>\n",
       "      <td>130.00</td>\n",
       "      <td>1203.0</td>\n",
       "      <td>0.10960</td>\n",
       "      <td>0.15990</td>\n",
       "      <td>0.1974</td>\n",
       "      <td>0.12790</td>\n",
       "      <td>...</td>\n",
       "      <td>25.53</td>\n",
       "      <td>152.50</td>\n",
       "      <td>1709.0</td>\n",
       "      <td>0.1444</td>\n",
       "      <td>0.4245</td>\n",
       "      <td>0.4504</td>\n",
       "      <td>0.2430</td>\n",
       "      <td>0.3613</td>\n",
       "      <td>0.08758</td>\n",
       "      <td>NaN</td>\n",
       "    </tr>\n",
       "    <tr>\n",
       "      <th>3</th>\n",
       "      <td>84348301</td>\n",
       "      <td>M</td>\n",
       "      <td>11.42</td>\n",
       "      <td>20.38</td>\n",
       "      <td>77.58</td>\n",
       "      <td>386.1</td>\n",
       "      <td>0.14250</td>\n",
       "      <td>0.28390</td>\n",
       "      <td>0.2414</td>\n",
       "      <td>0.10520</td>\n",
       "      <td>...</td>\n",
       "      <td>26.50</td>\n",
       "      <td>98.87</td>\n",
       "      <td>567.7</td>\n",
       "      <td>0.2098</td>\n",
       "      <td>0.8663</td>\n",
       "      <td>0.6869</td>\n",
       "      <td>0.2575</td>\n",
       "      <td>0.6638</td>\n",
       "      <td>0.17300</td>\n",
       "      <td>NaN</td>\n",
       "    </tr>\n",
       "    <tr>\n",
       "      <th>4</th>\n",
       "      <td>84358402</td>\n",
       "      <td>M</td>\n",
       "      <td>20.29</td>\n",
       "      <td>14.34</td>\n",
       "      <td>135.10</td>\n",
       "      <td>1297.0</td>\n",
       "      <td>0.10030</td>\n",
       "      <td>0.13280</td>\n",
       "      <td>0.1980</td>\n",
       "      <td>0.10430</td>\n",
       "      <td>...</td>\n",
       "      <td>16.67</td>\n",
       "      <td>152.20</td>\n",
       "      <td>1575.0</td>\n",
       "      <td>0.1374</td>\n",
       "      <td>0.2050</td>\n",
       "      <td>0.4000</td>\n",
       "      <td>0.1625</td>\n",
       "      <td>0.2364</td>\n",
       "      <td>0.07678</td>\n",
       "      <td>NaN</td>\n",
       "    </tr>\n",
       "  </tbody>\n",
       "</table>\n",
       "<p>5 rows × 33 columns</p>\n",
       "</div>"
      ],
      "text/plain": [
       "         id diagnosis  radius_mean  texture_mean  perimeter_mean  area_mean  \\\n",
       "0    842302         M        17.99         10.38          122.80     1001.0   \n",
       "1    842517         M        20.57         17.77          132.90     1326.0   \n",
       "2  84300903         M        19.69         21.25          130.00     1203.0   \n",
       "3  84348301         M        11.42         20.38           77.58      386.1   \n",
       "4  84358402         M        20.29         14.34          135.10     1297.0   \n",
       "\n",
       "   smoothness_mean  compactness_mean  concavity_mean  concave points_mean  \\\n",
       "0          0.11840           0.27760          0.3001              0.14710   \n",
       "1          0.08474           0.07864          0.0869              0.07017   \n",
       "2          0.10960           0.15990          0.1974              0.12790   \n",
       "3          0.14250           0.28390          0.2414              0.10520   \n",
       "4          0.10030           0.13280          0.1980              0.10430   \n",
       "\n",
       "      ...       texture_worst  perimeter_worst  area_worst  smoothness_worst  \\\n",
       "0     ...               17.33           184.60      2019.0            0.1622   \n",
       "1     ...               23.41           158.80      1956.0            0.1238   \n",
       "2     ...               25.53           152.50      1709.0            0.1444   \n",
       "3     ...               26.50            98.87       567.7            0.2098   \n",
       "4     ...               16.67           152.20      1575.0            0.1374   \n",
       "\n",
       "   compactness_worst  concavity_worst  concave points_worst  symmetry_worst  \\\n",
       "0             0.6656           0.7119                0.2654          0.4601   \n",
       "1             0.1866           0.2416                0.1860          0.2750   \n",
       "2             0.4245           0.4504                0.2430          0.3613   \n",
       "3             0.8663           0.6869                0.2575          0.6638   \n",
       "4             0.2050           0.4000                0.1625          0.2364   \n",
       "\n",
       "   fractal_dimension_worst  Unnamed: 32  \n",
       "0                  0.11890          NaN  \n",
       "1                  0.08902          NaN  \n",
       "2                  0.08758          NaN  \n",
       "3                  0.17300          NaN  \n",
       "4                  0.07678          NaN  \n",
       "\n",
       "[5 rows x 33 columns]"
      ]
     },
     "execution_count": 4,
     "metadata": {},
     "output_type": "execute_result"
    }
   ],
   "source": [
    "data.head()"
   ]
  },
  {
   "cell_type": "markdown",
   "metadata": {
    "_cell_guid": "f7f638eb-412f-4b0e-8ce2-eeb5064fc5cc",
    "_uuid": "65da961555f44a810b538563bb9fb34d5a8824cd"
   },
   "source": [
    "#### 检查需要预测的目标"
   ]
  },
  {
   "cell_type": "code",
   "execution_count": null,
   "metadata": {
    "_cell_guid": "942f755d-47e2-4a08-8a86-a714cc5892bf",
    "_uuid": "3224344cce6346711f5ba416a7a4d689b274c7c7",
    "collapsed": true
   },
   "outputs": [],
   "source": [
    "data['diagnosis'].value_counts()"
   ]
  },
  {
   "cell_type": "markdown",
   "metadata": {
    "_cell_guid": "074bf4f4-d289-4f71-912f-d75b3d199079",
    "_uuid": "3aa0ffe03c8d51970b74d6775055fdebd81b9086"
   },
   "source": [
    "#### 过滤不需要的信息"
   ]
  },
  {
   "cell_type": "code",
   "execution_count": null,
   "metadata": {
    "_cell_guid": "5518aa75-bcd6-4243-a675-b0db34aa8dd1",
    "_uuid": "4a75082fec8defb44923181c05836c17e69d57f6",
    "collapsed": true
   },
   "outputs": [],
   "source": [
    "data.drop('id',axis=1,inplace=True)\n",
    "data.drop('Unnamed: 32',axis=1,inplace=True)"
   ]
  },
  {
   "cell_type": "markdown",
   "metadata": {
    "_cell_guid": "b0323205-2dc2-46af-abef-8ac11b4e9d6d",
    "_uuid": "0e97bc9d7be944d5f15dc7dd0a470de473ebd0fe"
   },
   "source": [
    "#### 转换预测的目标   M：1， B：-1"
   ]
  },
  {
   "cell_type": "code",
   "execution_count": null,
   "metadata": {
    "_cell_guid": "4b1562f6-946e-4c01-8002-8ef5d9a4efce",
    "_uuid": "f97ad9fe0d85dbd63435370deeed87de2d9d4456",
    "collapsed": true
   },
   "outputs": [],
   "source": [
    "data['diagnosis'] = data['diagnosis'].apply(lambda x : +1 if x=='M' else -1)"
   ]
  },
  {
   "cell_type": "markdown",
   "metadata": {
    "_cell_guid": "66d73479-4c5e-4898-bc09-1d7d3912c035",
    "_uuid": "27c591a0ca47800f4120c3f4a0aeae5853a4235f"
   },
   "source": [
    "#### 观察数据的基本信息"
   ]
  },
  {
   "cell_type": "code",
   "execution_count": null,
   "metadata": {
    "_cell_guid": "7cbe754a-c0ef-46d4-9843-b82429b8ad76",
    "_uuid": "84cdee3028377b83ddc48b2a14a695fd9252f137",
    "collapsed": true
   },
   "outputs": [],
   "source": [
    "data.describe()"
   ]
  },
  {
   "cell_type": "code",
   "execution_count": null,
   "metadata": {
    "_cell_guid": "4dd4d927-862d-452b-9cd3-5c493176f805",
    "_uuid": "864ea3519d34b242d3ee6980c63bcc913df11c94",
    "collapsed": true
   },
   "outputs": [],
   "source": [
    "data.info()"
   ]
  },
  {
   "cell_type": "code",
   "execution_count": null,
   "metadata": {
    "_cell_guid": "69805f0b-732f-4586-8b99-6e1bf1ac4b14",
    "_uuid": "6c95d2bccd9c88993ec64ff95cef4f87fcf953c4",
    "collapsed": true
   },
   "outputs": [],
   "source": [
    "import seaborn as sns\n",
    "sns.countplot(data['diagnosis'])"
   ]
  },
  {
   "cell_type": "markdown",
   "metadata": {
    "_cell_guid": "38b9f911-857c-4e1a-8288-c1d016847c6b",
    "_uuid": "50c91858e2245a5c7bcaf2dfb84d101e6edd2758"
   },
   "source": [
    "#### 利用前6个特征，设定目标变量"
   ]
  },
  {
   "cell_type": "code",
   "execution_count": null,
   "metadata": {
    "_cell_guid": "68a3efc5-b866-4a96-88e7-3aad593ae5ae",
    "_uuid": "a0ccf10c3d9dd55ce70ebe2a18eb39469cb61657",
    "collapsed": true
   },
   "outputs": [],
   "source": [
    "features = data.columns[1:7]\n",
    "target = 'diagnosis'\n",
    "features"
   ]
  },
  {
   "cell_type": "markdown",
   "metadata": {
    "_cell_guid": "8b28fa97-08af-4006-b5d6-f9ddd0be09dc",
    "_uuid": "3257fb2c7eecd5348d574c3fd98954ae120fb111"
   },
   "source": [
    "#### 特征探索  \n",
    "\n",
    "- 比较6个特征与恶性肿瘤的关系"
   ]
  },
  {
   "cell_type": "code",
   "execution_count": null,
   "metadata": {
    "_cell_guid": "4563b723-adb0-4a5e-b51b-02915c3a15b2",
    "_uuid": "e5b962a7b63ce4316a1fa8fd0bf82ab0049829f2",
    "collapsed": true
   },
   "outputs": [],
   "source": [
    "i = 0\n",
    "for feature in features:\n",
    "\n",
    "    bins = 25\n",
    "    # 将特征的直方图画出来\n",
    "    plt.hist(data[feature][data[target] == -1], bins=bins, color='lightblue', label= 'B-healthy', alpha=1)\n",
    "    plt.hist(data[feature][data[target] == 1], bins=bins, color='k', label='M-bad', alpha=0.5)\n",
    "    \n",
    "    plt.xlabel(feature)\n",
    "    plt.ylabel('Amount of count')\n",
    "    \n",
    "    plt.legend()\n",
    "    \n",
    "    plt.show()"
   ]
  },
  {
   "cell_type": "code",
   "execution_count": null,
   "metadata": {
    "_cell_guid": "892a2d30-8d2f-4d63-89ba-f9daf87323a7",
    "_uuid": "424ec46ecef846afa782ddfc1665ad1d6bc58d5f",
    "collapsed": true
   },
   "outputs": [],
   "source": [
    "from sklearn.model_selection import train_test_split\n",
    "train_data, test_data = train_test_split(data, test_size=0.3)"
   ]
  },
  {
   "cell_type": "code",
   "execution_count": null,
   "metadata": {
    "_cell_guid": "b9bad6ba-8079-46d8-a67c-0a2b6f9e077f",
    "_uuid": "7923cbd44a5985b54fe50a235b205082dac7672d",
    "collapsed": true
   },
   "outputs": [],
   "source": [
    "trainX, trainY = train_data[data.columns[1:]], train_data[target]\n",
    "testX, testY = test_data[data.columns[1:]], test_data[target]"
   ]
  },
  {
   "cell_type": "markdown",
   "metadata": {
    "_cell_guid": "83ecceaf-47bc-489a-896b-77771b5e3db6",
    "_uuid": "f6b424e764e098575ba45f6c8d545c9be1d13f4c"
   },
   "source": [
    "### Logistic回归的表现"
   ]
  },
  {
   "cell_type": "code",
   "execution_count": null,
   "metadata": {
    "_cell_guid": "1d8abb85-96ae-48b2-be2a-1d4367d87ad8",
    "_uuid": "43c2f980dbf2031ae8486ab11df7a7016f97f90a",
    "collapsed": true
   },
   "outputs": [],
   "source": [
    "logistic_model = LogisticRegression()\n",
    "print(\"Logistic Regression performance: %f\" % (cross_val_score(logistic_model, trainX, trainY, cv=8).mean()))"
   ]
  },
  {
   "cell_type": "markdown",
   "metadata": {
    "_cell_guid": "29151ced-295f-4965-86ef-b17e2ee85a5d",
    "_uuid": "a9acc07f5c82564bd183de80cc8295086998a83e"
   },
   "source": [
    "### 决策树的表现"
   ]
  },
  {
   "cell_type": "code",
   "execution_count": null,
   "metadata": {
    "_cell_guid": "1fbe414c-2452-4c6d-a6c8-cca34359e337",
    "_uuid": "c3c1c381e1ffb5a6a9c579b8fd954c816b5c09bc",
    "collapsed": true
   },
   "outputs": [],
   "source": [
    "tree_model = DecisionTreeClassifier()\n",
    "print(\"Decision Tree performance: %f\" % (cross_val_score(tree_model, trainX, trainY, cv=8).mean()))"
   ]
  },
  {
   "cell_type": "markdown",
   "metadata": {
    "_cell_guid": "496039d7-5478-401f-8d98-d864f1a6be35",
    "_uuid": "a2708b105306a49e7f02654adc630a10ffc3f52c"
   },
   "source": [
    "### 直接调用adaboost模型的表现"
   ]
  },
  {
   "cell_type": "code",
   "execution_count": null,
   "metadata": {
    "_cell_guid": "7f4bf255-ad34-4a01-ba46-ab7bf8f2e070",
    "_uuid": "952b7b68887f8f8952ddcec748ebb16dac13990a",
    "collapsed": true
   },
   "outputs": [],
   "source": [
    "ada_model = AdaBoostClassifier(n_estimators=200)\n",
    "print(\"Decision Tree performance: %f\" % (cross_val_score(ada_model, trainX, trainY, cv=8).mean()))"
   ]
  },
  {
   "cell_type": "markdown",
   "metadata": {
    "_cell_guid": "c19d3403-f9fd-4937-a2f8-e7dc1ddcc015",
    "_uuid": "dcb4f3ada679e0d9c7cb01dfe2ca2db150406ef6"
   },
   "source": [
    "### 测试集的表现"
   ]
  },
  {
   "cell_type": "code",
   "execution_count": null,
   "metadata": {
    "_cell_guid": "0c815a74-20e1-460e-b7fd-31760b06ac9e",
    "_uuid": "56a25c9befeed5fefec7bdddddd0789ac61b3939",
    "collapsed": true
   },
   "outputs": [],
   "source": [
    "logistic_model = LogisticRegression()\n",
    "logistic_model.fit(trainX, trainY)\n",
    "print(\"Logistic Regression test performance: %f\" % logistic_model.score(testX, testY))"
   ]
  },
  {
   "cell_type": "code",
   "execution_count": null,
   "metadata": {
    "_cell_guid": "3c508ece-da1c-4c02-b2bb-2fd3a2bc11b6",
    "_uuid": "6793fd8ada040f9f36ffe8503e284de99bc430ba",
    "collapsed": true
   },
   "outputs": [],
   "source": [
    "tree_model = DecisionTreeClassifier()\n",
    "tree_model.fit(trainX, trainY)\n",
    "print(\"Decision Tree test performance: %f\" % tree_model.score(testX, testY))"
   ]
  },
  {
   "cell_type": "code",
   "execution_count": null,
   "metadata": {
    "_cell_guid": "5491fce0-d244-4c0e-827d-cf66b335f3f9",
    "_uuid": "d8e6b13f2029aac96b80732efca0944e429c4d86",
    "collapsed": true
   },
   "outputs": [],
   "source": [
    "ada_model = AdaBoostClassifier(n_estimators=200)\n",
    "ada_model.fit(trainX, trainY)\n",
    "print(\"Adaboost test performance: %f\" % ada_model.score(testX, testY))"
   ]
  },
  {
   "cell_type": "markdown",
   "metadata": {
    "_cell_guid": "2a708935-a776-4107-83ec-b663800e5b62",
    "_uuid": "8310153aa9129e857d5b86bb5cbde6832dfebc24"
   },
   "source": [
    "#### Adaboost的实现"
   ]
  },
  {
   "cell_type": "code",
   "execution_count": null,
   "metadata": {
    "_cell_guid": "8761aedf-437e-422c-9801-25dab37bdce0",
    "_uuid": "a8ebf859aa140568d24eefb20d2655f19c2b3cc7",
    "collapsed": true
   },
   "outputs": [],
   "source": [
    "from sklearn.base import BaseEstimator\n",
    "class Adaboost(BaseEstimator):\n",
    "    \n",
    "    def __init__(self, M):\n",
    "        self.M = M\n",
    "        \n",
    "    def fit(self, X, Y):\n",
    "        self.models = []\n",
    "        self.model_weights = []\n",
    "        \n",
    "        N, _ = X.shape\n",
    "        alpha = np.ones(N) / N\n",
    "        \n",
    "        for m in range(self.M):\n",
    "            tree = DecisionTreeClassifier(max_depth=2)\n",
    "            tree.fit(X, Y, sample_weight=alpha)\n",
    "            prediction = tree.predict(X)\n",
    "            \n",
    "            # 计算加权错误\n",
    "            weighted_error = alpha.dot(prediction != Y)\n",
    "            \n",
    "            # 计算当前模型的权重\n",
    "            model_weight = 0.5 * (np.log(1 - weighted_error) - np.log(weighted_error))\n",
    "            \n",
    "            # 更新数据的权重\n",
    "            alpha = alpha * np.exp(-model_weight * Y * prediction)\n",
    "            \n",
    "            # 数据权重normalize\n",
    "            alpha = alpha / alpha.sum()\n",
    "            \n",
    "            self.models.append(tree)\n",
    "            self.model_weights.append(model_weight)\n",
    "            \n",
    "    def predict(self, X):\n",
    "        N, _ = X.shape\n",
    "        result = np.zeros(N)\n",
    "        for wt, tree in zip(self.model_weights, self.models):\n",
    "            result += wt * tree.predict(X)\n",
    "        \n",
    "        return np.sign(result)\n",
    "    \n",
    "    def score(self, X, Y):\n",
    "        prediction = self.predict(X)\n",
    "        return np.mean(prediction == Y)"
   ]
  },
  {
   "cell_type": "markdown",
   "metadata": {
    "_cell_guid": "561f5534-d256-42fd-a7a3-63534c762b0e",
    "_uuid": "03718ec7a413f88f3b6f88a4ad17b6f0bc4fe876"
   },
   "source": [
    "### Adaboost的表现"
   ]
  },
  {
   "cell_type": "code",
   "execution_count": null,
   "metadata": {
    "_cell_guid": "0549fd78-2b6a-4c60-a0fc-9b98302a5e80",
    "_uuid": "47b6b4e01fbe1f89f922e9c35580d3e28d988148",
    "collapsed": true
   },
   "outputs": [],
   "source": [
    "adamodel = Adaboost(200)\n",
    "print(\"Adaboost model performance: %f\" % (cross_val_score(adamodel, trainX.as_matrix().astype(np.float64), trainY.as_matrix().astype(np.float64), cv=8).mean()))"
   ]
  },
  {
   "cell_type": "markdown",
   "metadata": {
    "_cell_guid": "e8e11bae-1326-48fe-9992-351f96168e51",
    "_uuid": "59bc1614354983b59dbc6571b44edcec5d388806"
   },
   "source": [
    "### 测试集的表现"
   ]
  },
  {
   "cell_type": "code",
   "execution_count": null,
   "metadata": {
    "_cell_guid": "079ac65f-ec4e-4349-8c62-31b0b815761f",
    "_uuid": "6b02e97ec65fbf33c9465e9dcbabd5783a3822a1",
    "collapsed": true
   },
   "outputs": [],
   "source": [
    "adamodel.fit(trainX.as_matrix().astype(np.float64), trainY.as_matrix().astype(np.float64))\n",
    "print(\"Adaboost model test performance: %f\" % adamodel.score(testX.as_matrix().astype(np.float64), testY.as_matrix().astype(np.float64)))"
   ]
  },
  {
   "cell_type": "code",
   "execution_count": null,
   "metadata": {
    "_cell_guid": "c76ca1e1-3f0c-4d00-a2d2-57910de4f072",
    "_uuid": "d42593ae87f7095100f05bf82f13f92f304a2ccb",
    "collapsed": true
   },
   "outputs": [],
   "source": []
  }
 ],
 "metadata": {
  "kernelspec": {
   "display_name": "Python 3",
   "language": "python",
   "name": "python3"
  },
  "language_info": {
   "codemirror_mode": {
    "name": "ipython",
    "version": 3
   },
   "file_extension": ".py",
   "mimetype": "text/x-python",
   "name": "python",
   "nbconvert_exporter": "python",
   "pygments_lexer": "ipython3",
   "version": "3.6.6"
  }
 },
 "nbformat": 4,
 "nbformat_minor": 1
}
