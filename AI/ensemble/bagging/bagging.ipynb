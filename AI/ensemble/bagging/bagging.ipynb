{
 "cells": [
  {
   "cell_type": "code",
   "execution_count": null,
   "metadata": {
    "_uuid": "95efa3a3c808e3324cf71d3a7e14f0fb28fa587d",
    "collapsed": true
   },
   "outputs": [],
   "source": [
    "%matplotlib inline\n",
    "import numpy as np\n",
    "import matplotlib.pyplot as plt\n",
    "\n",
    "\n",
    "from sklearn.tree import DecisionTreeClassifier\n",
    "from sklearn.linear_model import LogisticRegression\n",
    "from sklearn.utils import shuffle"
   ]
  },
  {
   "cell_type": "markdown",
   "metadata": {
    "_uuid": "4c49109c4e820d1237eefe7463537c98710f80ec"
   },
   "source": [
    "### 点集实验bagging"
   ]
  },
  {
   "cell_type": "code",
   "execution_count": null,
   "metadata": {
    "_uuid": "4539eee1fb33c70ac9d20b7598a86e078f837a5f",
    "collapsed": true
   },
   "outputs": [],
   "source": [
    "def plot_decision_boundary(X, model):\n",
    "    h = .02 \n",
    "\n",
    "    x_min, x_max = X[:, 0].min() - 1, X[:, 0].max() + 1\n",
    "    y_min, y_max = X[:, 1].min() - 1, X[:, 1].max() + 1\n",
    "    xx, yy = np.meshgrid(np.arange(x_min, x_max, h),\n",
    "                       np.arange(y_min, y_max, h))\n",
    "\n",
    "\n",
    "    Z = model.predict(np.c_[xx.ravel(), yy.ravel()])\n",
    "\n",
    "    Z = Z.reshape(xx.shape)\n",
    "    plt.contour(xx, yy, Z, cmap=plt.cm.Paired)"
   ]
  },
  {
   "cell_type": "markdown",
   "metadata": {
    "_uuid": "6dc7dc7a331fdd225a3ef5d469d52db00a9ae02c"
   },
   "source": [
    "#### Bagging基于决策树  \n",
    "\n",
    "- 实现fit, predict, score三个函数  \n",
    "\n",
    "\n",
    "sklearn model template:\n",
    "\n",
    "class Mymodel(BaseEstimator):  \n",
    "\n",
    "    def __init__(self, ...):\n",
    "    \n",
    "    \n",
    "    def fit(self, ...):\n",
    "    \n",
    "    \n",
    "    def predict(self, ...):\n",
    "    \n",
    "    \n",
    "    def score(self, ...):\n",
    "    "
   ]
  },
  {
   "cell_type": "code",
   "execution_count": null,
   "metadata": {
    "_uuid": "f45bb1d96bca6bf90e9f586dae7f3268bb5e25d9",
    "collapsed": true
   },
   "outputs": [],
   "source": [
    "class BaggedTreeClassifier:\n",
    "    def __init__(self, M):\n",
    "        # M个决策树\n",
    "        # TODO\n",
    "        self.M = M\n",
    "\n",
    "        \n",
    "    def fit(self, X, Y):\n",
    "        # TODO\n",
    "        N = len(X)\n",
    "        # 袋子\n",
    "        self.models = list()\n",
    "        # 有放回的采样N个数据\n",
    "        for m in range(self.M):\n",
    "            idx = np.random.choice(N, size=N, replace=True)\n",
    "            Xb = X[idx]\n",
    "            Yb = Y[idx]\n",
    "            model = DecisionTreeClassifier(max_depth=5)\n",
    "            model.fit(Xb, Yb)\n",
    "            self.models.append(model)\n",
    "        # 创建深度为5的决策树\n",
    "\n",
    "    \n",
    "    def predict(self,X):\n",
    "        # TODO\n",
    "        # 二分类预测\n",
    "        predictions = np.zeros(len(X))\n",
    "        for model in self.models:\n",
    "            predictions += model.predict(X)\n",
    "        return np.round(predictions / self.M)\n",
    "    \n",
    "    def score(self,X,Y):\n",
    "        #TODO\n",
    "        result = self.predict(X)\n",
    "        return np.mean(result == Y)\n",
    "        "
   ]
  },
  {
   "cell_type": "markdown",
   "metadata": {
    "_uuid": "5ce529962ab1f6480833e309e62805902a04cc82"
   },
   "source": [
    "#### 在线性不可分上的实验 XOR异或数据点"
   ]
  },
  {
   "cell_type": "code",
   "execution_count": null,
   "metadata": {
    "_uuid": "aad79c4206b3c3143974220dc4622f5fdc9d9996",
    "collapsed": true
   },
   "outputs": [],
   "source": [
    "## 决策树的代码 \n",
    "\n",
    "np.random.seed(10)\n",
    "\n",
    "N = 500\n",
    "D = 2\n",
    "X = np.random.randn(N, D)\n",
    "\n",
    "delta = 1.75\n",
    "X[:125] += np.array([delta, delta])\n",
    "X[125:250] += np.array([delta, -delta])\n",
    "X[250:375] += np.array([-delta, delta])\n",
    "X[375:] += np.array([-delta, -delta])\n",
    "Y = np.array([0] * 125 + [1]*125 + [1]*125 + [0] * 125)\n",
    "\n",
    "plt.scatter(X[:,0], X[:,1], s=100, c=Y, alpha=0.5)\n",
    "plt.show()\n",
    "\n",
    "# 基础树模型\n",
    "model = DecisionTreeClassifier()\n",
    "# use different model and compare the boundaries.\n",
    "#model = DecisionTreeClassifier(criterion='entropy', max_depth=3, min_samples_leaf=5)\n",
    "model.fit(X, Y)\n",
    "print(\"score for basic tree:\", model.score(X, Y))\n",
    "\n",
    "# plot data with boundary\n",
    "plt.scatter(X[:,0], X[:,1], s=100, c=Y, alpha=0.5)\n",
    "plot_decision_boundary(X, model)\n",
    "plt.show()\n",
    "\n",
    "\n",
    "# 树的深度为3的模型\n",
    "model_depth_3 = DecisionTreeClassifier(criterion='entropy', max_depth=3)\n",
    "model_depth_3.fit(X, Y)\n",
    "\n",
    "print(\"score for tree of depth 3:\", model_depth_3.score(X, Y))\n",
    "plt.scatter(X[:,0], X[:,1], s=100, c=Y, alpha=0.5)\n",
    "plot_decision_boundary(X, model_depth_3)\n",
    "plt.show()\n",
    "\n",
    "# 树的深度为5的模型\n",
    "model_depth_5 = DecisionTreeClassifier(criterion='entropy', max_depth=5)\n",
    "model_depth_5.fit(X, Y)\n",
    "\n",
    "print(\"score for tree of depth 5:\", model_depth_5.score(X, Y))\n",
    "plt.scatter(X[:,0], X[:,1], s=100, c=Y, alpha=0.5)\n",
    "plot_decision_boundary(X, model_depth_5)\n",
    "plt.show()\n",
    "\n",
    "\n",
    "#logistic regression模型\n",
    "model_logistic = LogisticRegression()\n",
    "model_logistic.fit(X, Y)\n",
    "\n",
    "print(\"score for logistic regression model:\", model_logistic.score(X, Y))\n",
    "\n",
    "# 可视化\n",
    "plt.scatter(X[:,0], X[:,1], s=100, c=Y, alpha=0.5)\n",
    "plot_decision_boundary(X, model_logistic)\n",
    "plt.show()  \n",
    "\n",
    "# bagged tree 模型\n",
    "#TODO\n",
    "baggedTree = BaggedTreeClassifier(200)\n",
    "baggedTree.fit(X, Y)\n",
    "print(\"score for bagged tree model:\", baggedTree.score(X, Y))\n",
    "\n",
    "plt.scatter(X[:,0], X[:,1], s=100, c=Y, alpha=0.5)\n",
    "plot_decision_boundary(X, baggedTree)\n",
    "plt.show()\n"
   ]
  },
  {
   "cell_type": "markdown",
   "metadata": {
    "_uuid": "94715cf173ac09328048f2363894d6985e412873"
   },
   "source": [
    "#### 在线性不可分上的实验 甜甜圈数据点"
   ]
  },
  {
   "cell_type": "code",
   "execution_count": null,
   "metadata": {
    "_uuid": "51472684f416e15b75eecca416df8a832053aefb",
    "collapsed": true
   },
   "outputs": [],
   "source": [
    "## 决策树代码\n",
    "\n",
    "np.random.seed(10)\n",
    "\n",
    "N = 500\n",
    "D = 2\n",
    "X = np.random.randn(N, D)\n",
    "\n",
    "R_smaller = 5\n",
    "R_larger = 10\n",
    "\n",
    "R1 = np.random.randn(N//2) + R_smaller\n",
    "theta = 2 * np.pi * np.random.random(N//2)\n",
    "X[:250] = np.concatenate([[R1 * np.cos(theta)], [R1*np.sin(theta)]]).T\n",
    "\n",
    "\n",
    "R2 = np.random.randn(N//2) + R_larger\n",
    "theta = 2 * np.pi * np.random.random(N//2)\n",
    "X[250:] = np.concatenate([[R2 * np.cos(theta)], [R2*np.sin(theta)]]).T\n",
    "\n",
    "Y = np.array([0] * (N//2) + [1] * (N//2))\n",
    "\n",
    "\n",
    "# plot the data\n",
    "plt.scatter(X[:,0], X[:,1], s=100, c=Y, alpha=0.5)\n",
    "plt.show()\n",
    "\n",
    "# 基础树模型\n",
    "model = DecisionTreeClassifier()\n",
    "model.fit(X, Y)\n",
    "print(\"score for basic tree:\", model.score(X, Y))\n",
    "\n",
    "plt.scatter(X[:,0], X[:,1], s=100, c=Y, alpha=0.5)\n",
    "plot_decision_boundary(X, model)\n",
    "plt.show()\n",
    "\n",
    "\n",
    "# 树的深度为3的模型\n",
    "model_depth_3 = DecisionTreeClassifier(criterion='entropy', max_depth=3)\n",
    "model_depth_3.fit(X, Y)\n",
    "\n",
    "print(\"score for tree of depth 3:\", model_depth_3.score(X, Y))\n",
    "plt.scatter(X[:,0], X[:,1], s=100, c=Y, alpha=0.5)\n",
    "plot_decision_boundary(X, model_depth_3)\n",
    "plt.show()\n",
    "\n",
    "# 树的深度为5的模型\n",
    "model_depth_5 = DecisionTreeClassifier(criterion='entropy', max_depth=5)\n",
    "model_depth_5.fit(X, Y)\n",
    "\n",
    "print(\"score for tree of depth 5:\", model_depth_5.score(X, Y))\n",
    "plt.scatter(X[:,0], X[:,1], s=100, c=Y, alpha=0.5)\n",
    "plot_decision_boundary(X, model_depth_5)\n",
    "plt.show()\n",
    "\n",
    "\n",
    "# logistic regression 模型\n",
    "model_logistic = LogisticRegression()\n",
    "model_logistic.fit(X, Y)\n",
    "\n",
    "print(\"score for logistic regression model:\", model_logistic.score(X, Y))\n",
    "\n",
    "plt.scatter(X[:,0], X[:,1], s=100, c=Y, alpha=0.5)\n",
    "plot_decision_boundary(X, model_logistic)\n",
    "plt.show()\n",
    "\n",
    "# bagged tree 模型\n",
    "#TODO\n",
    "baggedTree = BaggedTreeClassifier(200)\n",
    "baggedTree.fit(X,Y)\n",
    "print(\"score for bagged tree:\", baggedTree.score(X, Y))\n",
    "plt.scatter(X[:,0], X[:,1], s=100, c=Y, alpha=0.5)\n",
    "plot_decision_boundary(X, baggedTree)\n",
    "plt.show()"
   ]
  },
  {
   "cell_type": "code",
   "execution_count": null,
   "metadata": {
    "_uuid": "a3185bb6a612e094a9da9245e9d05a1ab9939cdd",
    "collapsed": true
   },
   "outputs": [],
   "source": []
  }
 ],
 "metadata": {
  "kernelspec": {
   "display_name": "Python 3",
   "language": "python",
   "name": "python3"
  },
  "language_info": {
   "codemirror_mode": {
    "name": "ipython",
    "version": 3
   },
   "file_extension": ".py",
   "mimetype": "text/x-python",
   "name": "python",
   "nbconvert_exporter": "python",
   "pygments_lexer": "ipython3",
   "version": "3.6.6"
  }
 },
 "nbformat": 4,
 "nbformat_minor": 1
}
