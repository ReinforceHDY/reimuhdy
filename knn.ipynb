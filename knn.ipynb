{
 "cells": [
  {
   "cell_type": "code",
   "execution_count": 1,
   "metadata": {},
   "outputs": [],
   "source": [
    "import numpy as np\n",
    "import pandas as pd\n",
    "import matplotlib.pyplot as plt"
   ]
  },
  {
   "cell_type": "code",
   "execution_count": 2,
   "metadata": {},
   "outputs": [
    {
     "name": "stdout",
     "output_type": "stream",
     "text": [
      "(42000, 785)\n"
     ]
    }
   ],
   "source": [
    "data_dir = \"./\"\n",
    "\n",
    "def load_data(data_dir, train_row):\n",
    "    train = pd.read_csv(data_dir + \"train.csv\")\n",
    "    print(train.shape)\n",
    "    X_train = train.values[0:train_row, 1:]\n",
    "    y_train = train.values[0:train_row, 0]\n",
    "    \n",
    "    Pred_test = pd.read_csv(data_dir + \"test.csv\").values\n",
    "    return X_train, y_train, Pred_test\n",
    "\n",
    "train_row = 5000    # for all data, use 42000\n",
    "Origin_X_train, Origin_y_train, Origin_y_test = load_data(data_dir, train_row)"
   ]
  },
  {
   "cell_type": "code",
   "execution_count": 3,
   "metadata": {},
   "outputs": [
    {
     "name": "stdout",
     "output_type": "stream",
     "text": [
      "(4000, 784) (1000, 784) (4000,) (1000,)\n"
     ]
    }
   ],
   "source": [
    "from sklearn.model_selection import train_test_split\n",
    "\n",
    "X_train, X_vali, y_train, y_vali = train_test_split(Origin_X_train, Origin_y_train, test_size = 0.2, random_state = 0)\n",
    "\n",
    "print(X_train.shape, X_vali.shape, y_train.shape, y_vali.shape)"
   ]
  },
  {
   "cell_type": "code",
   "execution_count": 4,
   "metadata": {},
   "outputs": [],
   "source": [
    "class knn():\n",
    "    def __init__(self):\n",
    "        pass\n",
    "    \n",
    "    def train(self, X, y):\n",
    "        # X is the feature of the training data\n",
    "        # y is the label vector of the training data\n",
    "        self.X_train = X\n",
    "        self.y_train = y\n",
    "        \n",
    "    def predict(self, X, num, k):\n",
    "        # X is the feature of the data to predict\n",
    "        dataSet = X_train\n",
    "        labels = y_train\n",
    "        dataSetSize = dataSet.shape[0]\n",
    "        \n",
    "        # np.tile: repeat an array several times\n",
    "        # a = np.array([0, 1, 2])\n",
    "        # np.tile(a, (2, 3))\n",
    "        # array([0, 1, 2, 0, 1, 2, 0, 1, 2], [0, 1, 2, 0, 1, 2, 0, 1, 2])\n",
    "        \n",
    "        diffMat = np.tile(X, (dataSetSize, 1)) - dataSet\n",
    "        sqDiffMat = diffMat ** 2    # square of difference in each dim for each instance\n",
    "        sumDiffMat = sqDiffMat.sum(axis=1)    # square of Euclidean distance\n",
    "        distances = sumDiffMat ** 0.5   # Euclidean distance\n",
    "        \n",
    "        # np.argsort: return index of elements after sorting in accending order\n",
    "        # x = np.array([300, 100, 200])\n",
    "        # np.argsort(x)\n",
    "        # array([1, 2, 0])\n",
    "        sortedDistances = distances.argsort()\n",
    "        # sortedDistances = [2, 3, 1, 0, 5, 7, 8, 6]\n",
    "        \n",
    "        classCount = {}   # classCount[i] is the number of times label \"i\" appears in top k positions\n",
    "        for i in range(k):\n",
    "            vote = labels[sortedDistances[i]]\n",
    "            classCount[vote] = classCount.get(vote, 0) + 1\n",
    "        \n",
    "        max = 0\n",
    "        ans = 0\n",
    "        for k, v in classCount.items():\n",
    "            if v > max:\n",
    "                ans = k\n",
    "                max = v\n",
    "        \n",
    "        return ans"
   ]
  },
  {
   "cell_type": "code",
   "execution_count": 5,
   "metadata": {},
   "outputs": [],
   "source": [
    "from sklearn.metrics import accuracy_score\n",
    "classifier = knn()\n",
    "classifier.train(X_train, y_train)"
   ]
  },
  {
   "cell_type": "code",
   "execution_count": 6,
   "metadata": {},
   "outputs": [
    {
     "name": "stdout",
     "output_type": "stream",
     "text": [
      "k =  1 start prediction\n"
     ]
    },
    {
     "name": "stderr",
     "output_type": "stream",
     "text": [
      "100%|██████████████████████████████████████████████████████████████████████████████| 1000/1000 [00:30<00:00, 32.95it/s]\n"
     ]
    },
    {
     "name": "stdout",
     "output_type": "stream",
     "text": [
      "k =  1 accuracy =  0.919\n",
      "k =  2 start prediction\n"
     ]
    },
    {
     "name": "stderr",
     "output_type": "stream",
     "text": [
      "100%|██████████████████████████████████████████████████████████████████████████████| 1000/1000 [00:30<00:00, 32.80it/s]\n"
     ]
    },
    {
     "name": "stdout",
     "output_type": "stream",
     "text": [
      "k =  2 accuracy =  0.919\n",
      "k =  3 start prediction\n"
     ]
    },
    {
     "name": "stderr",
     "output_type": "stream",
     "text": [
      "100%|██████████████████████████████████████████████████████████████████████████████| 1000/1000 [00:30<00:00, 32.80it/s]\n"
     ]
    },
    {
     "name": "stdout",
     "output_type": "stream",
     "text": [
      "k =  3 accuracy =  0.925\n",
      "k =  4 start prediction\n"
     ]
    },
    {
     "name": "stderr",
     "output_type": "stream",
     "text": [
      "100%|██████████████████████████████████████████████████████████████████████████████| 1000/1000 [00:30<00:00, 32.37it/s]\n"
     ]
    },
    {
     "name": "stdout",
     "output_type": "stream",
     "text": [
      "k =  4 accuracy =  0.924\n"
     ]
    }
   ],
   "source": [
    "from tqdm import tqdm\n",
    "# python -m pip install tqdm\n",
    "max = 0\n",
    "ans_k = 0\n",
    "for k in range(1, 5):\n",
    "    print('k = ', k, 'start prediction')\n",
    "    predictions = np.zeros(len(y_vali))\n",
    "    for i in tqdm(range(X_vali.shape[0])):\n",
    "        output = classifier.predict(X_vali[i], i, k)\n",
    "        predictions[i] = output\n",
    "        \n",
    "    accuracy = accuracy_score(y_vali, predictions)\n",
    "    print('k = ', k, 'accuracy = ', accuracy)\n",
    "    if accuracy > max:\n",
    "        max = accuracy\n",
    "        ans_k = k"
   ]
  },
  {
   "cell_type": "code",
   "execution_count": 7,
   "metadata": {},
   "outputs": [
    {
     "name": "stdout",
     "output_type": "stream",
     "text": [
      "0 / 300\n",
      "100 / 300\n",
      "200 / 300\n"
     ]
    }
   ],
   "source": [
    "k = 3\n",
    "Origin_y_test = Origin_y_test[:300]\n",
    "predictions = np.zeros(Origin_y_test.shape[0])\n",
    "for i in range(Origin_y_test.shape[0]):\n",
    "    if i % 100 == 0:\n",
    "        print(i, '/', Origin_y_test.shape[0])\n",
    "    predictions[i] = classifier.predict(Origin_y_test[i], i, k)"
   ]
  },
  {
   "cell_type": "code",
   "execution_count": 9,
   "metadata": {},
   "outputs": [
    {
     "name": "stdout",
     "output_type": "stream",
     "text": [
      "2.0\n"
     ]
    },
    {
     "data": {
      "image/png": "[encoded data removed]",
      "text/plain": [
       "<Figure size 432x288 with 1 Axes>"
      ]
     },
     "metadata": {},
     "output_type": "display_data"
    }
   ],
   "source": [
    "id = 102\n",
    "print(predictions[id])\n",
    "plt.imshow(Origin_y_test[id].reshape((28, 28)))\n",
    "plt.show()"
   ]
  },
  {
   "cell_type": "code",
   "execution_count": 10,
   "metadata": {},
   "outputs": [],
   "source": [
    "out_file = open(\"predictions.csv\", \"w\")\n",
    "out_file.write(\"ImageId, Label\\n\")\n",
    "for i in range(len(predictions)):\n",
    "    out_file.write(str(i + 1) + \",\" + str(int(predictions[i])) + \"\\n\")\n",
    "out_file.close()"
   ]
  },
  {
   "cell_type": "code",
   "execution_count": null,
   "metadata": {},
   "outputs": [],
   "source": []
  }
 ],
 "metadata": {
  "kernelspec": {
   "display_name": "Python 3",
   "language": "python",
   "name": "python3"
  },
  "language_info": {
   "codemirror_mode": {
    "name": "ipython",
    "version": 3
   },
   "file_extension": ".py",
   "mimetype": "text/x-python",
   "name": "python",
   "nbconvert_exporter": "python",
   "pygments_lexer": "ipython3",
   "version": "3.6.6"
  }
 },
 "nbformat": 4,
 "nbformat_minor": 2
}
